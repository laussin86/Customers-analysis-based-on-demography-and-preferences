{
  "nbformat": 4,
  "nbformat_minor": 0,
  "metadata": {
    "colab": {
      "provenance": [],
      "mount_file_id": "1ngsMQcyoFBdHHFbWINot4HlPRo5OzZ4X",
      "authorship_tag": "ABX9TyONwBGNMcoEqqYjRpUSTZwY",
      "include_colab_link": true
    },
    "kernelspec": {
      "name": "python3",
      "display_name": "Python 3"
    },
    "language_info": {
      "name": "python"
    }
  },
  "cells": [
    {
      "cell_type": "markdown",
      "metadata": {
        "id": "view-in-github",
        "colab_type": "text"
      },
      "source": [
        "<a href=\"https://colab.research.google.com/github/laussin86/KPMG-Virtual-Internship-data-analysis-project/blob/main/KPMG_Data_Analysis.ipynb\" target=\"_parent\"><img src=\"https://colab.research.google.com/assets/colab-badge.svg\" alt=\"Open In Colab\"/></a>"
      ]
    },
    {
      "cell_type": "markdown",
      "source": [
        "# KPMG VIRTUAL INTERNSHIP PROJECT\n",
        "## TASK: 1 - Data Quality Assessment\n",
        "### Assessment of data quality and completeness in preparation for analysis.\n",
        "**The client provided KPMG with 3 datasets:**\n",
        "\n",
        "**1.Customer Demographic**\n",
        "\n",
        "**2.Customer Addresses**\n",
        "\n",
        "**3.Transactions data in the past 3 months**\n"
      ],
      "metadata": {
        "id": "DNBpEKPi1smu"
      }
    },
    {
      "cell_type": "code",
      "source": [
        "#importing the libraries\n",
        "import pandas as pd\n",
        "from google.colab import drive"
      ],
      "metadata": {
        "id": "Zgb2YORc2-tP"
      },
      "execution_count": 1,
      "outputs": []
    },
    {
      "cell_type": "markdown",
      "source": [
        "##Reading the data\n"
      ],
      "metadata": {
        "id": "njOKPD-S3Nnz"
      }
    },
    {
      "cell_type": "code",
      "source": [
        "\n",
        "drive.mount('/content/drive')\n",
        "file_path = '/content/drive/MyDrive/KPMG/KPMG_VI_New_raw_data_update_final.xlsx'\n",
        "data = pd.ExcelFile(file_path)\n"
      ],
      "metadata": {
        "colab": {
          "base_uri": "https://localhost:8080/"
        },
        "id": "XGuxC5dhAQkX",
        "outputId": "7d91e018-e9df-48d8-de8e-240bc3765316"
      },
      "execution_count": 2,
      "outputs": [
        {
          "output_type": "stream",
          "name": "stdout",
          "text": [
            "Drive already mounted at /content/drive; to attempt to forcibly remount, call drive.mount(\"/content/drive\", force_remount=True).\n"
          ]
        }
      ]
    },
    {
      "cell_type": "markdown",
      "source": [
        "##Reading each file separately\n"
      ],
      "metadata": {
        "id": "7Zn9x0_Z3afH"
      }
    },
    {
      "cell_type": "code",
      "source": [
        "Transactions = pd.read_excel(data, 'Transactions')\n",
        "NewCustomerList = pd.read_excel(data, 'NewCustomerList')\n",
        "CustomerDemographic = pd.read_excel(data, 'CustomerDemographic')\n",
        "CustomerAddress = pd.read_excel(data, 'CustomerAddress')"
      ],
      "metadata": {
        "colab": {
          "base_uri": "https://localhost:8080/"
        },
        "id": "smpQ5pK-Bj5Z",
        "outputId": "2a48550d-c721-439d-d881-7bc314ce0584"
      },
      "execution_count": 3,
      "outputs": [
        {
          "output_type": "stream",
          "name": "stderr",
          "text": [
            "<ipython-input-3-7e31c9dbc7f2>:2: FutureWarning: Inferring datetime64[ns] from data containing strings is deprecated and will be removed in a future version. To retain the old behavior explicitly pass Series(data, dtype=datetime64[ns])\n",
            "  NewCustomerList = pd.read_excel(data, 'NewCustomerList')\n",
            "<ipython-input-3-7e31c9dbc7f2>:3: FutureWarning: Inferring datetime64[ns] from data containing strings is deprecated and will be removed in a future version. To retain the old behavior explicitly pass Series(data, dtype=datetime64[ns])\n",
            "  CustomerDemographic = pd.read_excel(data, 'CustomerDemographic')\n"
          ]
        }
      ]
    },
    {
      "cell_type": "markdown",
      "source": [
        "##Exploring Transactions Data Set\n"
      ],
      "metadata": {
        "id": "SVbeihov33Nl"
      }
    },
    {
      "cell_type": "code",
      "source": [
        "Transactions.head(5)"
      ],
      "metadata": {
        "colab": {
          "base_uri": "https://localhost:8080/",
          "height": 340
        },
        "id": "7lSBcP0DRY87",
        "outputId": "1c1cc3da-aeca-4dda-ba9e-9ebbc6592a40"
      },
      "execution_count": 4,
      "outputs": [
        {
          "output_type": "execute_result",
          "data": {
            "text/plain": [
              "   transaction_id  product_id  customer_id transaction_date  online_order  \\\n",
              "0               1           2         2950       2017-02-25           0.0   \n",
              "1               2           3         3120       2017-05-21           1.0   \n",
              "2               3          37          402       2017-10-16           0.0   \n",
              "3               4          88         3135       2017-08-31           0.0   \n",
              "4               5          78          787       2017-10-01           1.0   \n",
              "\n",
              "  order_status           brand product_line product_class product_size  \\\n",
              "0     Approved           Solex     Standard        medium       medium   \n",
              "1     Approved   Trek Bicycles     Standard        medium        large   \n",
              "2     Approved      OHM Cycles     Standard           low       medium   \n",
              "3     Approved  Norco Bicycles     Standard        medium       medium   \n",
              "4     Approved  Giant Bicycles     Standard        medium        large   \n",
              "\n",
              "   list_price  standard_cost  product_first_sold_date  \n",
              "0       71.49          53.62                  41245.0  \n",
              "1     2091.47         388.92                  41701.0  \n",
              "2     1793.43         248.82                  36361.0  \n",
              "3     1198.46         381.10                  36145.0  \n",
              "4     1765.30         709.48                  42226.0  "
            ],
            "text/html": [
              "\n",
              "  <div id=\"df-481c8590-01ae-467b-a3a7-f30fddd17fee\">\n",
              "    <div class=\"colab-df-container\">\n",
              "      <div>\n",
              "<style scoped>\n",
              "    .dataframe tbody tr th:only-of-type {\n",
              "        vertical-align: middle;\n",
              "    }\n",
              "\n",
              "    .dataframe tbody tr th {\n",
              "        vertical-align: top;\n",
              "    }\n",
              "\n",
              "    .dataframe thead th {\n",
              "        text-align: right;\n",
              "    }\n",
              "</style>\n",
              "<table border=\"1\" class=\"dataframe\">\n",
              "  <thead>\n",
              "    <tr style=\"text-align: right;\">\n",
              "      <th></th>\n",
              "      <th>transaction_id</th>\n",
              "      <th>product_id</th>\n",
              "      <th>customer_id</th>\n",
              "      <th>transaction_date</th>\n",
              "      <th>online_order</th>\n",
              "      <th>order_status</th>\n",
              "      <th>brand</th>\n",
              "      <th>product_line</th>\n",
              "      <th>product_class</th>\n",
              "      <th>product_size</th>\n",
              "      <th>list_price</th>\n",
              "      <th>standard_cost</th>\n",
              "      <th>product_first_sold_date</th>\n",
              "    </tr>\n",
              "  </thead>\n",
              "  <tbody>\n",
              "    <tr>\n",
              "      <th>0</th>\n",
              "      <td>1</td>\n",
              "      <td>2</td>\n",
              "      <td>2950</td>\n",
              "      <td>2017-02-25</td>\n",
              "      <td>0.0</td>\n",
              "      <td>Approved</td>\n",
              "      <td>Solex</td>\n",
              "      <td>Standard</td>\n",
              "      <td>medium</td>\n",
              "      <td>medium</td>\n",
              "      <td>71.49</td>\n",
              "      <td>53.62</td>\n",
              "      <td>41245.0</td>\n",
              "    </tr>\n",
              "    <tr>\n",
              "      <th>1</th>\n",
              "      <td>2</td>\n",
              "      <td>3</td>\n",
              "      <td>3120</td>\n",
              "      <td>2017-05-21</td>\n",
              "      <td>1.0</td>\n",
              "      <td>Approved</td>\n",
              "      <td>Trek Bicycles</td>\n",
              "      <td>Standard</td>\n",
              "      <td>medium</td>\n",
              "      <td>large</td>\n",
              "      <td>2091.47</td>\n",
              "      <td>388.92</td>\n",
              "      <td>41701.0</td>\n",
              "    </tr>\n",
              "    <tr>\n",
              "      <th>2</th>\n",
              "      <td>3</td>\n",
              "      <td>37</td>\n",
              "      <td>402</td>\n",
              "      <td>2017-10-16</td>\n",
              "      <td>0.0</td>\n",
              "      <td>Approved</td>\n",
              "      <td>OHM Cycles</td>\n",
              "      <td>Standard</td>\n",
              "      <td>low</td>\n",
              "      <td>medium</td>\n",
              "      <td>1793.43</td>\n",
              "      <td>248.82</td>\n",
              "      <td>36361.0</td>\n",
              "    </tr>\n",
              "    <tr>\n",
              "      <th>3</th>\n",
              "      <td>4</td>\n",
              "      <td>88</td>\n",
              "      <td>3135</td>\n",
              "      <td>2017-08-31</td>\n",
              "      <td>0.0</td>\n",
              "      <td>Approved</td>\n",
              "      <td>Norco Bicycles</td>\n",
              "      <td>Standard</td>\n",
              "      <td>medium</td>\n",
              "      <td>medium</td>\n",
              "      <td>1198.46</td>\n",
              "      <td>381.10</td>\n",
              "      <td>36145.0</td>\n",
              "    </tr>\n",
              "    <tr>\n",
              "      <th>4</th>\n",
              "      <td>5</td>\n",
              "      <td>78</td>\n",
              "      <td>787</td>\n",
              "      <td>2017-10-01</td>\n",
              "      <td>1.0</td>\n",
              "      <td>Approved</td>\n",
              "      <td>Giant Bicycles</td>\n",
              "      <td>Standard</td>\n",
              "      <td>medium</td>\n",
              "      <td>large</td>\n",
              "      <td>1765.30</td>\n",
              "      <td>709.48</td>\n",
              "      <td>42226.0</td>\n",
              "    </tr>\n",
              "  </tbody>\n",
              "</table>\n",
              "</div>\n",
              "      <button class=\"colab-df-convert\" onclick=\"convertToInteractive('df-481c8590-01ae-467b-a3a7-f30fddd17fee')\"\n",
              "              title=\"Convert this dataframe to an interactive table.\"\n",
              "              style=\"display:none;\">\n",
              "        \n",
              "  <svg xmlns=\"http://www.w3.org/2000/svg\" height=\"24px\"viewBox=\"0 0 24 24\"\n",
              "       width=\"24px\">\n",
              "    <path d=\"M0 0h24v24H0V0z\" fill=\"none\"/>\n",
              "    <path d=\"M18.56 5.44l.94 2.06.94-2.06 2.06-.94-2.06-.94-.94-2.06-.94 2.06-2.06.94zm-11 1L8.5 8.5l.94-2.06 2.06-.94-2.06-.94L8.5 2.5l-.94 2.06-2.06.94zm10 10l.94 2.06.94-2.06 2.06-.94-2.06-.94-.94-2.06-.94 2.06-2.06.94z\"/><path d=\"M17.41 7.96l-1.37-1.37c-.4-.4-.92-.59-1.43-.59-.52 0-1.04.2-1.43.59L10.3 9.45l-7.72 7.72c-.78.78-.78 2.05 0 2.83L4 21.41c.39.39.9.59 1.41.59.51 0 1.02-.2 1.41-.59l7.78-7.78 2.81-2.81c.8-.78.8-2.07 0-2.86zM5.41 20L4 18.59l7.72-7.72 1.47 1.35L5.41 20z\"/>\n",
              "  </svg>\n",
              "      </button>\n",
              "      \n",
              "  <style>\n",
              "    .colab-df-container {\n",
              "      display:flex;\n",
              "      flex-wrap:wrap;\n",
              "      gap: 12px;\n",
              "    }\n",
              "\n",
              "    .colab-df-convert {\n",
              "      background-color: #E8F0FE;\n",
              "      border: none;\n",
              "      border-radius: 50%;\n",
              "      cursor: pointer;\n",
              "      display: none;\n",
              "      fill: #1967D2;\n",
              "      height: 32px;\n",
              "      padding: 0 0 0 0;\n",
              "      width: 32px;\n",
              "    }\n",
              "\n",
              "    .colab-df-convert:hover {\n",
              "      background-color: #E2EBFA;\n",
              "      box-shadow: 0px 1px 2px rgba(60, 64, 67, 0.3), 0px 1px 3px 1px rgba(60, 64, 67, 0.15);\n",
              "      fill: #174EA6;\n",
              "    }\n",
              "\n",
              "    [theme=dark] .colab-df-convert {\n",
              "      background-color: #3B4455;\n",
              "      fill: #D2E3FC;\n",
              "    }\n",
              "\n",
              "    [theme=dark] .colab-df-convert:hover {\n",
              "      background-color: #434B5C;\n",
              "      box-shadow: 0px 1px 3px 1px rgba(0, 0, 0, 0.15);\n",
              "      filter: drop-shadow(0px 1px 2px rgba(0, 0, 0, 0.3));\n",
              "      fill: #FFFFFF;\n",
              "    }\n",
              "  </style>\n",
              "\n",
              "      <script>\n",
              "        const buttonEl =\n",
              "          document.querySelector('#df-481c8590-01ae-467b-a3a7-f30fddd17fee button.colab-df-convert');\n",
              "        buttonEl.style.display =\n",
              "          google.colab.kernel.accessAllowed ? 'block' : 'none';\n",
              "\n",
              "        async function convertToInteractive(key) {\n",
              "          const element = document.querySelector('#df-481c8590-01ae-467b-a3a7-f30fddd17fee');\n",
              "          const dataTable =\n",
              "            await google.colab.kernel.invokeFunction('convertToInteractive',\n",
              "                                                     [key], {});\n",
              "          if (!dataTable) return;\n",
              "\n",
              "          const docLinkHtml = 'Like what you see? Visit the ' +\n",
              "            '<a target=\"_blank\" href=https://colab.research.google.com/notebooks/data_table.ipynb>data table notebook</a>'\n",
              "            + ' to learn more about interactive tables.';\n",
              "          element.innerHTML = '';\n",
              "          dataTable['output_type'] = 'display_data';\n",
              "          await google.colab.output.renderOutput(dataTable, element);\n",
              "          const docLink = document.createElement('div');\n",
              "          docLink.innerHTML = docLinkHtml;\n",
              "          element.appendChild(docLink);\n",
              "        }\n",
              "      </script>\n",
              "    </div>\n",
              "  </div>\n",
              "  "
            ]
          },
          "metadata": {},
          "execution_count": 4
        }
      ]
    },
    {
      "cell_type": "code",
      "source": [
        "Transactions.info()"
      ],
      "metadata": {
        "colab": {
          "base_uri": "https://localhost:8080/"
        },
        "id": "nPUjRZegE1qh",
        "outputId": "070d6456-b561-48b9-b9ee-971e4848d73a"
      },
      "execution_count": 5,
      "outputs": [
        {
          "output_type": "stream",
          "name": "stdout",
          "text": [
            "<class 'pandas.core.frame.DataFrame'>\n",
            "RangeIndex: 20000 entries, 0 to 19999\n",
            "Data columns (total 13 columns):\n",
            " #   Column                   Non-Null Count  Dtype         \n",
            "---  ------                   --------------  -----         \n",
            " 0   transaction_id           20000 non-null  int64         \n",
            " 1   product_id               20000 non-null  int64         \n",
            " 2   customer_id              20000 non-null  int64         \n",
            " 3   transaction_date         20000 non-null  datetime64[ns]\n",
            " 4   online_order             19640 non-null  float64       \n",
            " 5   order_status             20000 non-null  object        \n",
            " 6   brand                    19803 non-null  object        \n",
            " 7   product_line             19803 non-null  object        \n",
            " 8   product_class            19803 non-null  object        \n",
            " 9   product_size             19803 non-null  object        \n",
            " 10  list_price               20000 non-null  float64       \n",
            " 11  standard_cost            19803 non-null  float64       \n",
            " 12  product_first_sold_date  19803 non-null  float64       \n",
            "dtypes: datetime64[ns](1), float64(4), int64(3), object(5)\n",
            "memory usage: 2.0+ MB\n"
          ]
        }
      ]
    },
    {
      "cell_type": "code",
      "source": [
        "#Checking the shape of the data\n",
        "Transactions.shape\n"
      ],
      "metadata": {
        "colab": {
          "base_uri": "https://localhost:8080/"
        },
        "id": "i_nOF6fYG_to",
        "outputId": "8e243efe-c50a-4592-e7cc-8c7907f35184"
      },
      "execution_count": 6,
      "outputs": [
        {
          "output_type": "execute_result",
          "data": {
            "text/plain": [
              "(20000, 13)"
            ]
          },
          "metadata": {},
          "execution_count": 6
        }
      ]
    },
    {
      "cell_type": "code",
      "source": [
        "#Checking for null values\n",
        "Transactions.isnull().sum()\n"
      ],
      "metadata": {
        "colab": {
          "base_uri": "https://localhost:8080/"
        },
        "id": "pdfF9gAiMT-w",
        "outputId": "e438f1a5-5829-41f0-9691-83ea14bdabd8"
      },
      "execution_count": 7,
      "outputs": [
        {
          "output_type": "execute_result",
          "data": {
            "text/plain": [
              "transaction_id               0\n",
              "product_id                   0\n",
              "customer_id                  0\n",
              "transaction_date             0\n",
              "online_order               360\n",
              "order_status                 0\n",
              "brand                      197\n",
              "product_line               197\n",
              "product_class              197\n",
              "product_size               197\n",
              "list_price                   0\n",
              "standard_cost              197\n",
              "product_first_sold_date    197\n",
              "dtype: int64"
            ]
          },
          "metadata": {},
          "execution_count": 7
        }
      ]
    },
    {
      "cell_type": "markdown",
      "source": [
        "There are missing values in 7 columns. They will be dropped or treated according to the nature of our analysis"
      ],
      "metadata": {
        "id": "wLltKz3m7e24"
      }
    },
    {
      "cell_type": "code",
      "source": [
        "#Checking for duplicate values\n",
        "Transactions.duplicated().sum()"
      ],
      "metadata": {
        "colab": {
          "base_uri": "https://localhost:8080/"
        },
        "id": "JF86gSRjNhMb",
        "outputId": "57597bdf-4771-4f01-e967-753eed24b392"
      },
      "execution_count": 8,
      "outputs": [
        {
          "output_type": "execute_result",
          "data": {
            "text/plain": [
              "0"
            ]
          },
          "metadata": {},
          "execution_count": 8
        }
      ]
    },
    {
      "cell_type": "markdown",
      "source": [
        "There is no duplicate in the transaction table"
      ],
      "metadata": {
        "id": "PgvApFqN7u18"
      }
    },
    {
      "cell_type": "code",
      "source": [
        "#check for uniqueness of each column\n",
        "Transactions.nunique() "
      ],
      "metadata": {
        "colab": {
          "base_uri": "https://localhost:8080/"
        },
        "id": "42775V0lNm9f",
        "outputId": "8574f2f5-e9dc-433b-832a-f0ee254526da"
      },
      "execution_count": 9,
      "outputs": [
        {
          "output_type": "execute_result",
          "data": {
            "text/plain": [
              "transaction_id             20000\n",
              "product_id                   101\n",
              "customer_id                 3494\n",
              "transaction_date             364\n",
              "online_order                   2\n",
              "order_status                   2\n",
              "brand                          6\n",
              "product_line                   4\n",
              "product_class                  3\n",
              "product_size                   3\n",
              "list_price                   296\n",
              "standard_cost                103\n",
              "product_first_sold_date      100\n",
              "dtype: int64"
            ]
          },
          "metadata": {},
          "execution_count": 9
        }
      ]
    },
    {
      "cell_type": "markdown",
      "source": [
        "##Exploring the columns"
      ],
      "metadata": {
        "id": "ny4aD9Jy8LeP"
      }
    },
    {
      "cell_type": "code",
      "source": [
        "Transactions['order_status'].value_counts()"
      ],
      "metadata": {
        "colab": {
          "base_uri": "https://localhost:8080/"
        },
        "id": "bJryxu3FOxpr",
        "outputId": "fe8c066a-84b9-4f07-cb96-2619ed6f1b54"
      },
      "execution_count": 10,
      "outputs": [
        {
          "output_type": "execute_result",
          "data": {
            "text/plain": [
              "Approved     19821\n",
              "Cancelled      179\n",
              "Name: order_status, dtype: int64"
            ]
          },
          "metadata": {},
          "execution_count": 10
        }
      ]
    },
    {
      "cell_type": "code",
      "source": [
        "Transactions['brand'].value_counts()"
      ],
      "metadata": {
        "colab": {
          "base_uri": "https://localhost:8080/"
        },
        "id": "DrfwJwYmPGfq",
        "outputId": "06f71f0a-726a-411f-c56b-1aee37db48cc"
      },
      "execution_count": 11,
      "outputs": [
        {
          "output_type": "execute_result",
          "data": {
            "text/plain": [
              "Solex             4253\n",
              "Giant Bicycles    3312\n",
              "WeareA2B          3295\n",
              "OHM Cycles        3043\n",
              "Trek Bicycles     2990\n",
              "Norco Bicycles    2910\n",
              "Name: brand, dtype: int64"
            ]
          },
          "metadata": {},
          "execution_count": 11
        }
      ]
    },
    {
      "cell_type": "code",
      "source": [
        "Transactions['product_line'].value_counts()\n"
      ],
      "metadata": {
        "colab": {
          "base_uri": "https://localhost:8080/"
        },
        "id": "ysxvAoHXPiqY",
        "outputId": "7f45cff8-c38a-47ff-b18d-6cfcbc3a5e76"
      },
      "execution_count": 12,
      "outputs": [
        {
          "output_type": "execute_result",
          "data": {
            "text/plain": [
              "Standard    14176\n",
              "Road         3970\n",
              "Touring      1234\n",
              "Mountain      423\n",
              "Name: product_line, dtype: int64"
            ]
          },
          "metadata": {},
          "execution_count": 12
        }
      ]
    },
    {
      "cell_type": "code",
      "source": [
        "Transactions['product_class'].value_counts()"
      ],
      "metadata": {
        "colab": {
          "base_uri": "https://localhost:8080/"
        },
        "id": "WFVUH1LPQWCu",
        "outputId": "374dbfa1-8849-4f8d-daac-3408fb6fd380"
      },
      "execution_count": 13,
      "outputs": [
        {
          "output_type": "execute_result",
          "data": {
            "text/plain": [
              "medium    13826\n",
              "high       3013\n",
              "low        2964\n",
              "Name: product_class, dtype: int64"
            ]
          },
          "metadata": {},
          "execution_count": 13
        }
      ]
    },
    {
      "cell_type": "code",
      "source": [
        "Transactions['product_size'].value_counts()"
      ],
      "metadata": {
        "colab": {
          "base_uri": "https://localhost:8080/"
        },
        "id": "KELmBfKeQstw",
        "outputId": "8432c685-4a24-4c33-c401-2ddf0ebaaae7"
      },
      "execution_count": 14,
      "outputs": [
        {
          "output_type": "execute_result",
          "data": {
            "text/plain": [
              "medium    12990\n",
              "large      3976\n",
              "small      2837\n",
              "Name: product_size, dtype: int64"
            ]
          },
          "metadata": {},
          "execution_count": 14
        }
      ]
    },
    {
      "cell_type": "code",
      "source": [
        "Transactions['product_first_sold_date']"
      ],
      "metadata": {
        "colab": {
          "base_uri": "https://localhost:8080/"
        },
        "id": "YYiNuE_tR6GE",
        "outputId": "a5eab698-6f22-4ac8-d245-83a0a8ba90c5"
      },
      "execution_count": 15,
      "outputs": [
        {
          "output_type": "execute_result",
          "data": {
            "text/plain": [
              "0        41245.0\n",
              "1        41701.0\n",
              "2        36361.0\n",
              "3        36145.0\n",
              "4        42226.0\n",
              "          ...   \n",
              "19995    37823.0\n",
              "19996    35560.0\n",
              "19997    40410.0\n",
              "19998    38216.0\n",
              "19999    36334.0\n",
              "Name: product_first_sold_date, Length: 20000, dtype: float64"
            ]
          },
          "metadata": {},
          "execution_count": 15
        }
      ]
    },
    {
      "cell_type": "markdown",
      "source": [
        "product_first_sold_date is not in the right format so we will convert to the right format"
      ],
      "metadata": {
        "id": "vdriY8lm84bI"
      }
    },
    {
      "cell_type": "code",
      "source": [
        "#convert date column from integer to datetime\n",
        "Transactions['product_first_sold_date'] = pd.to_datetime(Transactions['product_first_sold_date'], unit='s')\n",
        "Transactions['product_first_sold_date'].head(20)"
      ],
      "metadata": {
        "colab": {
          "base_uri": "https://localhost:8080/"
        },
        "id": "oAmBh4E8SNbO",
        "outputId": "dd66053e-7bb5-4f1e-b28e-f1617ef5913c"
      },
      "execution_count": 17,
      "outputs": [
        {
          "output_type": "execute_result",
          "data": {
            "text/plain": [
              "0    1970-01-01 11:27:25\n",
              "1    1970-01-01 11:35:01\n",
              "2    1970-01-01 10:06:01\n",
              "3    1970-01-01 10:02:25\n",
              "4    1970-01-01 11:43:46\n",
              "5    1970-01-01 10:50:31\n",
              "6    1970-01-01 09:29:25\n",
              "7    1970-01-01 11:05:15\n",
              "8    1970-01-01 09:17:35\n",
              "9    1970-01-01 10:36:56\n",
              "10   1970-01-01 11:19:44\n",
              "11   1970-01-01 11:42:52\n",
              "12   1970-01-01 09:35:27\n",
              "13   1970-01-01 09:36:26\n",
              "14   1970-01-01 10:36:33\n",
              "15   1970-01-01 10:31:13\n",
              "16   1970-01-01 10:36:46\n",
              "17   1970-01-01 09:24:48\n",
              "18   1970-01-01 11:05:15\n",
              "19   1970-01-01 10:22:17\n",
              "Name: product_first_sold_date, dtype: datetime64[ns]"
            ]
          },
          "metadata": {},
          "execution_count": 17
        }
      ]
    },
    {
      "cell_type": "markdown",
      "source": [
        "We can notice that column is not correct as showing everything was sold the same day at different time."
      ],
      "metadata": {
        "id": "ZrR45JH39SM1"
      }
    },
    {
      "cell_type": "markdown",
      "source": [
        "##Exploring New Customer List Data Set\n"
      ],
      "metadata": {
        "id": "0F279Ahg9n45"
      }
    },
    {
      "cell_type": "code",
      "source": [
        "NewCustomerList.head(5)"
      ],
      "metadata": {
        "colab": {
          "base_uri": "https://localhost:8080/",
          "height": 421
        },
        "id": "fIQDjZQYTOAB",
        "outputId": "f007e2d7-8947-4bc3-923a-6d67eb291934"
      },
      "execution_count": 4,
      "outputs": [
        {
          "output_type": "execute_result",
          "data": {
            "text/plain": [
              "  first_name  last_name  gender  past_3_years_bike_related_purchases  \\\n",
              "0    Chickie    Brister    Male                                   86   \n",
              "1      Morly     Genery    Male                                   69   \n",
              "2    Ardelis  Forrester  Female                                   10   \n",
              "3     Lucine      Stutt  Female                                   64   \n",
              "4    Melinda     Hadlee  Female                                   34   \n",
              "\n",
              "         DOB                   job_title job_industry_category  \\\n",
              "0 1957-07-12             General Manager         Manufacturing   \n",
              "1 1970-03-22         Structural Engineer              Property   \n",
              "2 1974-08-28      Senior Cost Accountant    Financial Services   \n",
              "3 1979-01-28  Account Representative III         Manufacturing   \n",
              "4 1965-09-21           Financial Analyst    Financial Services   \n",
              "\n",
              "      wealth_segment deceased_indicator owns_car  ...  state    country  \\\n",
              "0      Mass Customer                  N      Yes  ...    QLD  Australia   \n",
              "1      Mass Customer                  N       No  ...    NSW  Australia   \n",
              "2  Affluent Customer                  N       No  ...    VIC  Australia   \n",
              "3  Affluent Customer                  N      Yes  ...    QLD  Australia   \n",
              "4  Affluent Customer                  N       No  ...    NSW  Australia   \n",
              "\n",
              "   property_valuation Unnamed: 16 Unnamed: 17  Unnamed: 18  Unnamed: 19  \\\n",
              "0                   6        1.06      1.3250      1.65625     1.407812   \n",
              "1                  11        0.94      0.9400      1.17500     0.998750   \n",
              "2                   5        0.78      0.7800      0.78000     0.780000   \n",
              "3                   1        0.93      1.1625      1.16250     1.162500   \n",
              "4                   9        0.46      0.4600      0.57500     0.575000   \n",
              "\n",
              "   Unnamed: 20  Rank     Value  \n",
              "0            1     1  1.718750  \n",
              "1            1     1  1.718750  \n",
              "2            1     1  1.718750  \n",
              "3            4     4  1.703125  \n",
              "4            4     4  1.703125  \n",
              "\n",
              "[5 rows x 23 columns]"
            ],
            "text/html": [
              "\n",
              "  <div id=\"df-a36bd85a-c861-4e3d-b083-cc91218b2d90\">\n",
              "    <div class=\"colab-df-container\">\n",
              "      <div>\n",
              "<style scoped>\n",
              "    .dataframe tbody tr th:only-of-type {\n",
              "        vertical-align: middle;\n",
              "    }\n",
              "\n",
              "    .dataframe tbody tr th {\n",
              "        vertical-align: top;\n",
              "    }\n",
              "\n",
              "    .dataframe thead th {\n",
              "        text-align: right;\n",
              "    }\n",
              "</style>\n",
              "<table border=\"1\" class=\"dataframe\">\n",
              "  <thead>\n",
              "    <tr style=\"text-align: right;\">\n",
              "      <th></th>\n",
              "      <th>first_name</th>\n",
              "      <th>last_name</th>\n",
              "      <th>gender</th>\n",
              "      <th>past_3_years_bike_related_purchases</th>\n",
              "      <th>DOB</th>\n",
              "      <th>job_title</th>\n",
              "      <th>job_industry_category</th>\n",
              "      <th>wealth_segment</th>\n",
              "      <th>deceased_indicator</th>\n",
              "      <th>owns_car</th>\n",
              "      <th>...</th>\n",
              "      <th>state</th>\n",
              "      <th>country</th>\n",
              "      <th>property_valuation</th>\n",
              "      <th>Unnamed: 16</th>\n",
              "      <th>Unnamed: 17</th>\n",
              "      <th>Unnamed: 18</th>\n",
              "      <th>Unnamed: 19</th>\n",
              "      <th>Unnamed: 20</th>\n",
              "      <th>Rank</th>\n",
              "      <th>Value</th>\n",
              "    </tr>\n",
              "  </thead>\n",
              "  <tbody>\n",
              "    <tr>\n",
              "      <th>0</th>\n",
              "      <td>Chickie</td>\n",
              "      <td>Brister</td>\n",
              "      <td>Male</td>\n",
              "      <td>86</td>\n",
              "      <td>1957-07-12</td>\n",
              "      <td>General Manager</td>\n",
              "      <td>Manufacturing</td>\n",
              "      <td>Mass Customer</td>\n",
              "      <td>N</td>\n",
              "      <td>Yes</td>\n",
              "      <td>...</td>\n",
              "      <td>QLD</td>\n",
              "      <td>Australia</td>\n",
              "      <td>6</td>\n",
              "      <td>1.06</td>\n",
              "      <td>1.3250</td>\n",
              "      <td>1.65625</td>\n",
              "      <td>1.407812</td>\n",
              "      <td>1</td>\n",
              "      <td>1</td>\n",
              "      <td>1.718750</td>\n",
              "    </tr>\n",
              "    <tr>\n",
              "      <th>1</th>\n",
              "      <td>Morly</td>\n",
              "      <td>Genery</td>\n",
              "      <td>Male</td>\n",
              "      <td>69</td>\n",
              "      <td>1970-03-22</td>\n",
              "      <td>Structural Engineer</td>\n",
              "      <td>Property</td>\n",
              "      <td>Mass Customer</td>\n",
              "      <td>N</td>\n",
              "      <td>No</td>\n",
              "      <td>...</td>\n",
              "      <td>NSW</td>\n",
              "      <td>Australia</td>\n",
              "      <td>11</td>\n",
              "      <td>0.94</td>\n",
              "      <td>0.9400</td>\n",
              "      <td>1.17500</td>\n",
              "      <td>0.998750</td>\n",
              "      <td>1</td>\n",
              "      <td>1</td>\n",
              "      <td>1.718750</td>\n",
              "    </tr>\n",
              "    <tr>\n",
              "      <th>2</th>\n",
              "      <td>Ardelis</td>\n",
              "      <td>Forrester</td>\n",
              "      <td>Female</td>\n",
              "      <td>10</td>\n",
              "      <td>1974-08-28</td>\n",
              "      <td>Senior Cost Accountant</td>\n",
              "      <td>Financial Services</td>\n",
              "      <td>Affluent Customer</td>\n",
              "      <td>N</td>\n",
              "      <td>No</td>\n",
              "      <td>...</td>\n",
              "      <td>VIC</td>\n",
              "      <td>Australia</td>\n",
              "      <td>5</td>\n",
              "      <td>0.78</td>\n",
              "      <td>0.7800</td>\n",
              "      <td>0.78000</td>\n",
              "      <td>0.780000</td>\n",
              "      <td>1</td>\n",
              "      <td>1</td>\n",
              "      <td>1.718750</td>\n",
              "    </tr>\n",
              "    <tr>\n",
              "      <th>3</th>\n",
              "      <td>Lucine</td>\n",
              "      <td>Stutt</td>\n",
              "      <td>Female</td>\n",
              "      <td>64</td>\n",
              "      <td>1979-01-28</td>\n",
              "      <td>Account Representative III</td>\n",
              "      <td>Manufacturing</td>\n",
              "      <td>Affluent Customer</td>\n",
              "      <td>N</td>\n",
              "      <td>Yes</td>\n",
              "      <td>...</td>\n",
              "      <td>QLD</td>\n",
              "      <td>Australia</td>\n",
              "      <td>1</td>\n",
              "      <td>0.93</td>\n",
              "      <td>1.1625</td>\n",
              "      <td>1.16250</td>\n",
              "      <td>1.162500</td>\n",
              "      <td>4</td>\n",
              "      <td>4</td>\n",
              "      <td>1.703125</td>\n",
              "    </tr>\n",
              "    <tr>\n",
              "      <th>4</th>\n",
              "      <td>Melinda</td>\n",
              "      <td>Hadlee</td>\n",
              "      <td>Female</td>\n",
              "      <td>34</td>\n",
              "      <td>1965-09-21</td>\n",
              "      <td>Financial Analyst</td>\n",
              "      <td>Financial Services</td>\n",
              "      <td>Affluent Customer</td>\n",
              "      <td>N</td>\n",
              "      <td>No</td>\n",
              "      <td>...</td>\n",
              "      <td>NSW</td>\n",
              "      <td>Australia</td>\n",
              "      <td>9</td>\n",
              "      <td>0.46</td>\n",
              "      <td>0.4600</td>\n",
              "      <td>0.57500</td>\n",
              "      <td>0.575000</td>\n",
              "      <td>4</td>\n",
              "      <td>4</td>\n",
              "      <td>1.703125</td>\n",
              "    </tr>\n",
              "  </tbody>\n",
              "</table>\n",
              "<p>5 rows × 23 columns</p>\n",
              "</div>\n",
              "      <button class=\"colab-df-convert\" onclick=\"convertToInteractive('df-a36bd85a-c861-4e3d-b083-cc91218b2d90')\"\n",
              "              title=\"Convert this dataframe to an interactive table.\"\n",
              "              style=\"display:none;\">\n",
              "        \n",
              "  <svg xmlns=\"http://www.w3.org/2000/svg\" height=\"24px\"viewBox=\"0 0 24 24\"\n",
              "       width=\"24px\">\n",
              "    <path d=\"M0 0h24v24H0V0z\" fill=\"none\"/>\n",
              "    <path d=\"M18.56 5.44l.94 2.06.94-2.06 2.06-.94-2.06-.94-.94-2.06-.94 2.06-2.06.94zm-11 1L8.5 8.5l.94-2.06 2.06-.94-2.06-.94L8.5 2.5l-.94 2.06-2.06.94zm10 10l.94 2.06.94-2.06 2.06-.94-2.06-.94-.94-2.06-.94 2.06-2.06.94z\"/><path d=\"M17.41 7.96l-1.37-1.37c-.4-.4-.92-.59-1.43-.59-.52 0-1.04.2-1.43.59L10.3 9.45l-7.72 7.72c-.78.78-.78 2.05 0 2.83L4 21.41c.39.39.9.59 1.41.59.51 0 1.02-.2 1.41-.59l7.78-7.78 2.81-2.81c.8-.78.8-2.07 0-2.86zM5.41 20L4 18.59l7.72-7.72 1.47 1.35L5.41 20z\"/>\n",
              "  </svg>\n",
              "      </button>\n",
              "      \n",
              "  <style>\n",
              "    .colab-df-container {\n",
              "      display:flex;\n",
              "      flex-wrap:wrap;\n",
              "      gap: 12px;\n",
              "    }\n",
              "\n",
              "    .colab-df-convert {\n",
              "      background-color: #E8F0FE;\n",
              "      border: none;\n",
              "      border-radius: 50%;\n",
              "      cursor: pointer;\n",
              "      display: none;\n",
              "      fill: #1967D2;\n",
              "      height: 32px;\n",
              "      padding: 0 0 0 0;\n",
              "      width: 32px;\n",
              "    }\n",
              "\n",
              "    .colab-df-convert:hover {\n",
              "      background-color: #E2EBFA;\n",
              "      box-shadow: 0px 1px 2px rgba(60, 64, 67, 0.3), 0px 1px 3px 1px rgba(60, 64, 67, 0.15);\n",
              "      fill: #174EA6;\n",
              "    }\n",
              "\n",
              "    [theme=dark] .colab-df-convert {\n",
              "      background-color: #3B4455;\n",
              "      fill: #D2E3FC;\n",
              "    }\n",
              "\n",
              "    [theme=dark] .colab-df-convert:hover {\n",
              "      background-color: #434B5C;\n",
              "      box-shadow: 0px 1px 3px 1px rgba(0, 0, 0, 0.15);\n",
              "      filter: drop-shadow(0px 1px 2px rgba(0, 0, 0, 0.3));\n",
              "      fill: #FFFFFF;\n",
              "    }\n",
              "  </style>\n",
              "\n",
              "      <script>\n",
              "        const buttonEl =\n",
              "          document.querySelector('#df-a36bd85a-c861-4e3d-b083-cc91218b2d90 button.colab-df-convert');\n",
              "        buttonEl.style.display =\n",
              "          google.colab.kernel.accessAllowed ? 'block' : 'none';\n",
              "\n",
              "        async function convertToInteractive(key) {\n",
              "          const element = document.querySelector('#df-a36bd85a-c861-4e3d-b083-cc91218b2d90');\n",
              "          const dataTable =\n",
              "            await google.colab.kernel.invokeFunction('convertToInteractive',\n",
              "                                                     [key], {});\n",
              "          if (!dataTable) return;\n",
              "\n",
              "          const docLinkHtml = 'Like what you see? Visit the ' +\n",
              "            '<a target=\"_blank\" href=https://colab.research.google.com/notebooks/data_table.ipynb>data table notebook</a>'\n",
              "            + ' to learn more about interactive tables.';\n",
              "          element.innerHTML = '';\n",
              "          dataTable['output_type'] = 'display_data';\n",
              "          await google.colab.output.renderOutput(dataTable, element);\n",
              "          const docLink = document.createElement('div');\n",
              "          docLink.innerHTML = docLinkHtml;\n",
              "          element.appendChild(docLink);\n",
              "        }\n",
              "      </script>\n",
              "    </div>\n",
              "  </div>\n",
              "  "
            ]
          },
          "metadata": {},
          "execution_count": 4
        }
      ]
    },
    {
      "cell_type": "code",
      "source": [
        "NewCustomerList.info()"
      ],
      "metadata": {
        "colab": {
          "base_uri": "https://localhost:8080/"
        },
        "id": "eru13pEPTqGA",
        "outputId": "8deb9614-b666-40c7-e4ea-1995b9a09d0d"
      },
      "execution_count": 5,
      "outputs": [
        {
          "output_type": "stream",
          "name": "stdout",
          "text": [
            "<class 'pandas.core.frame.DataFrame'>\n",
            "RangeIndex: 1000 entries, 0 to 999\n",
            "Data columns (total 23 columns):\n",
            " #   Column                               Non-Null Count  Dtype         \n",
            "---  ------                               --------------  -----         \n",
            " 0   first_name                           1000 non-null   object        \n",
            " 1   last_name                            971 non-null    object        \n",
            " 2   gender                               1000 non-null   object        \n",
            " 3   past_3_years_bike_related_purchases  1000 non-null   int64         \n",
            " 4   DOB                                  983 non-null    datetime64[ns]\n",
            " 5   job_title                            894 non-null    object        \n",
            " 6   job_industry_category                835 non-null    object        \n",
            " 7   wealth_segment                       1000 non-null   object        \n",
            " 8   deceased_indicator                   1000 non-null   object        \n",
            " 9   owns_car                             1000 non-null   object        \n",
            " 10  tenure                               1000 non-null   int64         \n",
            " 11  address                              1000 non-null   object        \n",
            " 12  postcode                             1000 non-null   int64         \n",
            " 13  state                                1000 non-null   object        \n",
            " 14  country                              1000 non-null   object        \n",
            " 15  property_valuation                   1000 non-null   int64         \n",
            " 16  Unnamed: 16                          1000 non-null   float64       \n",
            " 17  Unnamed: 17                          1000 non-null   float64       \n",
            " 18  Unnamed: 18                          1000 non-null   float64       \n",
            " 19  Unnamed: 19                          1000 non-null   float64       \n",
            " 20  Unnamed: 20                          1000 non-null   int64         \n",
            " 21  Rank                                 1000 non-null   int64         \n",
            " 22  Value                                1000 non-null   float64       \n",
            "dtypes: datetime64[ns](1), float64(5), int64(6), object(11)\n",
            "memory usage: 179.8+ KB\n"
          ]
        }
      ]
    },
    {
      "cell_type": "code",
      "source": [
        "#Dropping the unnamed columns\n",
        "NewCustomerList.drop(['Unnamed: 16', 'Unnamed: 17', 'Unnamed: 18',\n",
        "       'Unnamed: 19', 'Unnamed: 20'], axis=1, inplace=True)"
      ],
      "metadata": {
        "id": "LWbiUBG8USmi"
      },
      "execution_count": 6,
      "outputs": []
    },
    {
      "cell_type": "code",
      "source": [
        "#Checking the shape of the dataset\n",
        "NewCustomerList.shape"
      ],
      "metadata": {
        "colab": {
          "base_uri": "https://localhost:8080/"
        },
        "id": "sEN8Q188VxPS",
        "outputId": "3067f309-5355-49d7-e7cd-bee2e668e96c"
      },
      "execution_count": 7,
      "outputs": [
        {
          "output_type": "execute_result",
          "data": {
            "text/plain": [
              "(1000, 18)"
            ]
          },
          "metadata": {},
          "execution_count": 7
        }
      ]
    },
    {
      "cell_type": "code",
      "source": [
        "#Checking for null values\n",
        "NewCustomerList.isnull().sum()"
      ],
      "metadata": {
        "colab": {
          "base_uri": "https://localhost:8080/"
        },
        "id": "pN9uMYqBWOyO",
        "outputId": "2765c3a5-fa7f-45cd-d0ba-ff2188b57ac8"
      },
      "execution_count": 8,
      "outputs": [
        {
          "output_type": "execute_result",
          "data": {
            "text/plain": [
              "first_name                               0\n",
              "last_name                               29\n",
              "gender                                   0\n",
              "past_3_years_bike_related_purchases      0\n",
              "DOB                                     17\n",
              "job_title                              106\n",
              "job_industry_category                  165\n",
              "wealth_segment                           0\n",
              "deceased_indicator                       0\n",
              "owns_car                                 0\n",
              "tenure                                   0\n",
              "address                                  0\n",
              "postcode                                 0\n",
              "state                                    0\n",
              "country                                  0\n",
              "property_valuation                       0\n",
              "Rank                                     0\n",
              "Value                                    0\n",
              "dtype: int64"
            ]
          },
          "metadata": {},
          "execution_count": 8
        }
      ]
    },
    {
      "cell_type": "markdown",
      "source": [
        "There are missing values in 4 columns. They will be dropped or treated according to the nature of our analysis"
      ],
      "metadata": {
        "id": "Xo8N727c-y9R"
      }
    },
    {
      "cell_type": "code",
      "source": [
        "#Checking for duplicate values\n",
        "NewCustomerList.duplicated().sum()"
      ],
      "metadata": {
        "colab": {
          "base_uri": "https://localhost:8080/"
        },
        "id": "5fCBg0ebWa6j",
        "outputId": "021aac3b-af4a-4b8e-d903-18021556aab4"
      },
      "execution_count": 9,
      "outputs": [
        {
          "output_type": "execute_result",
          "data": {
            "text/plain": [
              "0"
            ]
          },
          "metadata": {},
          "execution_count": 9
        }
      ]
    },
    {
      "cell_type": "markdown",
      "source": [
        "No duplicate"
      ],
      "metadata": {
        "id": "tg2eqJVu-6vT"
      }
    },
    {
      "cell_type": "code",
      "source": [
        "#Checking for uniquess of each column\n",
        "NewCustomerList.nunique()"
      ],
      "metadata": {
        "colab": {
          "base_uri": "https://localhost:8080/"
        },
        "id": "4Cy5reDXWjlX",
        "outputId": "799eb92e-0e55-4cf5-c3f6-208ba84fd1de"
      },
      "execution_count": 10,
      "outputs": [
        {
          "output_type": "execute_result",
          "data": {
            "text/plain": [
              "first_name                              940\n",
              "last_name                               961\n",
              "gender                                    3\n",
              "past_3_years_bike_related_purchases     100\n",
              "DOB                                     958\n",
              "job_title                               184\n",
              "job_industry_category                     9\n",
              "wealth_segment                            3\n",
              "deceased_indicator                        1\n",
              "owns_car                                  2\n",
              "tenure                                   23\n",
              "address                                1000\n",
              "postcode                                522\n",
              "state                                     3\n",
              "country                                   1\n",
              "property_valuation                       12\n",
              "Rank                                    324\n",
              "Value                                   324\n",
              "dtype: int64"
            ]
          },
          "metadata": {},
          "execution_count": 10
        }
      ]
    },
    {
      "cell_type": "markdown",
      "source": [
        "###Exploring the columns\n"
      ],
      "metadata": {
        "id": "xeKhfaJh_JhS"
      }
    },
    {
      "cell_type": "code",
      "source": [
        "NewCustomerList['gender'].value_counts()"
      ],
      "metadata": {
        "colab": {
          "base_uri": "https://localhost:8080/"
        },
        "id": "Is0hjwuGWsLg",
        "outputId": "98b1a9b3-f204-4785-af3d-6fa04aae746c"
      },
      "execution_count": 11,
      "outputs": [
        {
          "output_type": "execute_result",
          "data": {
            "text/plain": [
              "Female    513\n",
              "Male      470\n",
              "U          17\n",
              "Name: gender, dtype: int64"
            ]
          },
          "metadata": {},
          "execution_count": 11
        }
      ]
    },
    {
      "cell_type": "markdown",
      "source": [
        "There are 17 columns with unknown/unspecified gender."
      ],
      "metadata": {
        "id": "miB7Hvl1_Yed"
      }
    },
    {
      "cell_type": "code",
      "source": [
        "NewCustomerList['DOB'].value_counts()"
      ],
      "metadata": {
        "colab": {
          "base_uri": "https://localhost:8080/"
        },
        "id": "MqMSNVzM_jh5",
        "outputId": "c8d3307f-40dc-40a4-d6bf-a3aeaeddf41e"
      },
      "execution_count": 12,
      "outputs": [
        {
          "output_type": "execute_result",
          "data": {
            "text/plain": [
              "1998-02-05    2\n",
              "1978-01-15    2\n",
              "1977-11-08    2\n",
              "1951-11-28    2\n",
              "1979-07-28    2\n",
              "             ..\n",
              "1945-08-08    1\n",
              "1943-08-27    1\n",
              "1999-10-24    1\n",
              "1976-01-24    1\n",
              "1955-10-02    1\n",
              "Name: DOB, Length: 958, dtype: int64"
            ]
          },
          "metadata": {},
          "execution_count": 12
        }
      ]
    },
    {
      "cell_type": "code",
      "source": [
        "NewCustomerList['job_industry_category'].value_counts()"
      ],
      "metadata": {
        "colab": {
          "base_uri": "https://localhost:8080/"
        },
        "id": "X8XIi06C_pr5",
        "outputId": "61059b20-23aa-44e1-e3e7-113976640027"
      },
      "execution_count": 13,
      "outputs": [
        {
          "output_type": "execute_result",
          "data": {
            "text/plain": [
              "Financial Services    203\n",
              "Manufacturing         199\n",
              "Health                152\n",
              "Retail                 78\n",
              "Property               64\n",
              "IT                     51\n",
              "Entertainment          37\n",
              "Argiculture            26\n",
              "Telecommunications     25\n",
              "Name: job_industry_category, dtype: int64"
            ]
          },
          "metadata": {},
          "execution_count": 13
        }
      ]
    },
    {
      "cell_type": "code",
      "source": [
        "NewCustomerList['wealth_segment'].value_counts()"
      ],
      "metadata": {
        "colab": {
          "base_uri": "https://localhost:8080/"
        },
        "id": "ykNceLXn_u7c",
        "outputId": "00698cb2-c5df-431f-851c-e80356414ce0"
      },
      "execution_count": 14,
      "outputs": [
        {
          "output_type": "execute_result",
          "data": {
            "text/plain": [
              "Mass Customer        508\n",
              "High Net Worth       251\n",
              "Affluent Customer    241\n",
              "Name: wealth_segment, dtype: int64"
            ]
          },
          "metadata": {},
          "execution_count": 14
        }
      ]
    },
    {
      "cell_type": "code",
      "source": [
        "NewCustomerList['state'].value_counts()"
      ],
      "metadata": {
        "colab": {
          "base_uri": "https://localhost:8080/"
        },
        "id": "xrBrIVXO_zdZ",
        "outputId": "b85698ef-4edf-4155-9ace-b7651c19a1b4"
      },
      "execution_count": 15,
      "outputs": [
        {
          "output_type": "execute_result",
          "data": {
            "text/plain": [
              "NSW    506\n",
              "VIC    266\n",
              "QLD    228\n",
              "Name: state, dtype: int64"
            ]
          },
          "metadata": {},
          "execution_count": 15
        }
      ]
    },
    {
      "cell_type": "code",
      "source": [
        "NewCustomerList['owns_car'].value_counts()"
      ],
      "metadata": {
        "colab": {
          "base_uri": "https://localhost:8080/"
        },
        "id": "X_aOBBj1_-ij",
        "outputId": "efb46e67-dfd9-4d6e-a8a3-bd2c0d6e27c9"
      },
      "execution_count": 16,
      "outputs": [
        {
          "output_type": "execute_result",
          "data": {
            "text/plain": [
              "No     507\n",
              "Yes    493\n",
              "Name: owns_car, dtype: int64"
            ]
          },
          "metadata": {},
          "execution_count": 16
        }
      ]
    },
    {
      "cell_type": "code",
      "source": [
        "NewCustomerList['deceased_indicator'].value_counts()"
      ],
      "metadata": {
        "colab": {
          "base_uri": "https://localhost:8080/"
        },
        "id": "DhpVmMfnABZ7",
        "outputId": "9b8e1ff6-aed9-49b6-cf83-69b50300aaf3"
      },
      "execution_count": 17,
      "outputs": [
        {
          "output_type": "execute_result",
          "data": {
            "text/plain": [
              "N    1000\n",
              "Name: deceased_indicator, dtype: int64"
            ]
          },
          "metadata": {},
          "execution_count": 17
        }
      ]
    },
    {
      "cell_type": "markdown",
      "source": [
        "##Exploring Customer Demographic Data Set"
      ],
      "metadata": {
        "id": "GysV7eKCAJCj"
      }
    },
    {
      "cell_type": "code",
      "source": [
        "CustomerDemographic.head()"
      ],
      "metadata": {
        "colab": {
          "base_uri": "https://localhost:8080/",
          "height": 374
        },
        "id": "kQlRIqykAFbm",
        "outputId": "7ec7a37a-c1a2-4557-b625-ca297cd9b128"
      },
      "execution_count": 18,
      "outputs": [
        {
          "output_type": "execute_result",
          "data": {
            "text/plain": [
              "   customer_id      first_name  last_name  gender  \\\n",
              "0            1         Laraine  Medendorp       F   \n",
              "1            2             Eli    Bockman    Male   \n",
              "2            3           Arlin     Dearle    Male   \n",
              "3            4          Talbot        NaN    Male   \n",
              "4            5  Sheila-kathryn     Calton  Female   \n",
              "\n",
              "   past_3_years_bike_related_purchases        DOB               job_title  \\\n",
              "0                                   93 1953-10-12     Executive Secretary   \n",
              "1                                   81 1980-12-16  Administrative Officer   \n",
              "2                                   61 1954-01-20      Recruiting Manager   \n",
              "3                                   33 1961-10-03                     NaN   \n",
              "4                                   56 1977-05-13           Senior Editor   \n",
              "\n",
              "  job_industry_category     wealth_segment deceased_indicator  \\\n",
              "0                Health      Mass Customer                  N   \n",
              "1    Financial Services      Mass Customer                  N   \n",
              "2              Property      Mass Customer                  N   \n",
              "3                    IT      Mass Customer                  N   \n",
              "4                   NaN  Affluent Customer                  N   \n",
              "\n",
              "                                             default owns_car  tenure  \n",
              "0                                                 \"'      Yes    11.0  \n",
              "1                       <script>alert('hi')</script>      Yes    16.0  \n",
              "2                                2018-02-01 00:00:00      Yes    15.0  \n",
              "3  () { _; } >_[$($())] { touch /tmp/blns.shellsh...       No     7.0  \n",
              "4                                                NIL      Yes     8.0  "
            ],
            "text/html": [
              "\n",
              "  <div id=\"df-3c4633fb-2ee8-49dd-9f12-e9bc6bfd6c1c\">\n",
              "    <div class=\"colab-df-container\">\n",
              "      <div>\n",
              "<style scoped>\n",
              "    .dataframe tbody tr th:only-of-type {\n",
              "        vertical-align: middle;\n",
              "    }\n",
              "\n",
              "    .dataframe tbody tr th {\n",
              "        vertical-align: top;\n",
              "    }\n",
              "\n",
              "    .dataframe thead th {\n",
              "        text-align: right;\n",
              "    }\n",
              "</style>\n",
              "<table border=\"1\" class=\"dataframe\">\n",
              "  <thead>\n",
              "    <tr style=\"text-align: right;\">\n",
              "      <th></th>\n",
              "      <th>customer_id</th>\n",
              "      <th>first_name</th>\n",
              "      <th>last_name</th>\n",
              "      <th>gender</th>\n",
              "      <th>past_3_years_bike_related_purchases</th>\n",
              "      <th>DOB</th>\n",
              "      <th>job_title</th>\n",
              "      <th>job_industry_category</th>\n",
              "      <th>wealth_segment</th>\n",
              "      <th>deceased_indicator</th>\n",
              "      <th>default</th>\n",
              "      <th>owns_car</th>\n",
              "      <th>tenure</th>\n",
              "    </tr>\n",
              "  </thead>\n",
              "  <tbody>\n",
              "    <tr>\n",
              "      <th>0</th>\n",
              "      <td>1</td>\n",
              "      <td>Laraine</td>\n",
              "      <td>Medendorp</td>\n",
              "      <td>F</td>\n",
              "      <td>93</td>\n",
              "      <td>1953-10-12</td>\n",
              "      <td>Executive Secretary</td>\n",
              "      <td>Health</td>\n",
              "      <td>Mass Customer</td>\n",
              "      <td>N</td>\n",
              "      <td>\"'</td>\n",
              "      <td>Yes</td>\n",
              "      <td>11.0</td>\n",
              "    </tr>\n",
              "    <tr>\n",
              "      <th>1</th>\n",
              "      <td>2</td>\n",
              "      <td>Eli</td>\n",
              "      <td>Bockman</td>\n",
              "      <td>Male</td>\n",
              "      <td>81</td>\n",
              "      <td>1980-12-16</td>\n",
              "      <td>Administrative Officer</td>\n",
              "      <td>Financial Services</td>\n",
              "      <td>Mass Customer</td>\n",
              "      <td>N</td>\n",
              "      <td>&lt;script&gt;alert('hi')&lt;/script&gt;</td>\n",
              "      <td>Yes</td>\n",
              "      <td>16.0</td>\n",
              "    </tr>\n",
              "    <tr>\n",
              "      <th>2</th>\n",
              "      <td>3</td>\n",
              "      <td>Arlin</td>\n",
              "      <td>Dearle</td>\n",
              "      <td>Male</td>\n",
              "      <td>61</td>\n",
              "      <td>1954-01-20</td>\n",
              "      <td>Recruiting Manager</td>\n",
              "      <td>Property</td>\n",
              "      <td>Mass Customer</td>\n",
              "      <td>N</td>\n",
              "      <td>2018-02-01 00:00:00</td>\n",
              "      <td>Yes</td>\n",
              "      <td>15.0</td>\n",
              "    </tr>\n",
              "    <tr>\n",
              "      <th>3</th>\n",
              "      <td>4</td>\n",
              "      <td>Talbot</td>\n",
              "      <td>NaN</td>\n",
              "      <td>Male</td>\n",
              "      <td>33</td>\n",
              "      <td>1961-10-03</td>\n",
              "      <td>NaN</td>\n",
              "      <td>IT</td>\n",
              "      <td>Mass Customer</td>\n",
              "      <td>N</td>\n",
              "      <td>() { _; } &gt;_[$($())] { touch /tmp/blns.shellsh...</td>\n",
              "      <td>No</td>\n",
              "      <td>7.0</td>\n",
              "    </tr>\n",
              "    <tr>\n",
              "      <th>4</th>\n",
              "      <td>5</td>\n",
              "      <td>Sheila-kathryn</td>\n",
              "      <td>Calton</td>\n",
              "      <td>Female</td>\n",
              "      <td>56</td>\n",
              "      <td>1977-05-13</td>\n",
              "      <td>Senior Editor</td>\n",
              "      <td>NaN</td>\n",
              "      <td>Affluent Customer</td>\n",
              "      <td>N</td>\n",
              "      <td>NIL</td>\n",
              "      <td>Yes</td>\n",
              "      <td>8.0</td>\n",
              "    </tr>\n",
              "  </tbody>\n",
              "</table>\n",
              "</div>\n",
              "      <button class=\"colab-df-convert\" onclick=\"convertToInteractive('df-3c4633fb-2ee8-49dd-9f12-e9bc6bfd6c1c')\"\n",
              "              title=\"Convert this dataframe to an interactive table.\"\n",
              "              style=\"display:none;\">\n",
              "        \n",
              "  <svg xmlns=\"http://www.w3.org/2000/svg\" height=\"24px\"viewBox=\"0 0 24 24\"\n",
              "       width=\"24px\">\n",
              "    <path d=\"M0 0h24v24H0V0z\" fill=\"none\"/>\n",
              "    <path d=\"M18.56 5.44l.94 2.06.94-2.06 2.06-.94-2.06-.94-.94-2.06-.94 2.06-2.06.94zm-11 1L8.5 8.5l.94-2.06 2.06-.94-2.06-.94L8.5 2.5l-.94 2.06-2.06.94zm10 10l.94 2.06.94-2.06 2.06-.94-2.06-.94-.94-2.06-.94 2.06-2.06.94z\"/><path d=\"M17.41 7.96l-1.37-1.37c-.4-.4-.92-.59-1.43-.59-.52 0-1.04.2-1.43.59L10.3 9.45l-7.72 7.72c-.78.78-.78 2.05 0 2.83L4 21.41c.39.39.9.59 1.41.59.51 0 1.02-.2 1.41-.59l7.78-7.78 2.81-2.81c.8-.78.8-2.07 0-2.86zM5.41 20L4 18.59l7.72-7.72 1.47 1.35L5.41 20z\"/>\n",
              "  </svg>\n",
              "      </button>\n",
              "      \n",
              "  <style>\n",
              "    .colab-df-container {\n",
              "      display:flex;\n",
              "      flex-wrap:wrap;\n",
              "      gap: 12px;\n",
              "    }\n",
              "\n",
              "    .colab-df-convert {\n",
              "      background-color: #E8F0FE;\n",
              "      border: none;\n",
              "      border-radius: 50%;\n",
              "      cursor: pointer;\n",
              "      display: none;\n",
              "      fill: #1967D2;\n",
              "      height: 32px;\n",
              "      padding: 0 0 0 0;\n",
              "      width: 32px;\n",
              "    }\n",
              "\n",
              "    .colab-df-convert:hover {\n",
              "      background-color: #E2EBFA;\n",
              "      box-shadow: 0px 1px 2px rgba(60, 64, 67, 0.3), 0px 1px 3px 1px rgba(60, 64, 67, 0.15);\n",
              "      fill: #174EA6;\n",
              "    }\n",
              "\n",
              "    [theme=dark] .colab-df-convert {\n",
              "      background-color: #3B4455;\n",
              "      fill: #D2E3FC;\n",
              "    }\n",
              "\n",
              "    [theme=dark] .colab-df-convert:hover {\n",
              "      background-color: #434B5C;\n",
              "      box-shadow: 0px 1px 3px 1px rgba(0, 0, 0, 0.15);\n",
              "      filter: drop-shadow(0px 1px 2px rgba(0, 0, 0, 0.3));\n",
              "      fill: #FFFFFF;\n",
              "    }\n",
              "  </style>\n",
              "\n",
              "      <script>\n",
              "        const buttonEl =\n",
              "          document.querySelector('#df-3c4633fb-2ee8-49dd-9f12-e9bc6bfd6c1c button.colab-df-convert');\n",
              "        buttonEl.style.display =\n",
              "          google.colab.kernel.accessAllowed ? 'block' : 'none';\n",
              "\n",
              "        async function convertToInteractive(key) {\n",
              "          const element = document.querySelector('#df-3c4633fb-2ee8-49dd-9f12-e9bc6bfd6c1c');\n",
              "          const dataTable =\n",
              "            await google.colab.kernel.invokeFunction('convertToInteractive',\n",
              "                                                     [key], {});\n",
              "          if (!dataTable) return;\n",
              "\n",
              "          const docLinkHtml = 'Like what you see? Visit the ' +\n",
              "            '<a target=\"_blank\" href=https://colab.research.google.com/notebooks/data_table.ipynb>data table notebook</a>'\n",
              "            + ' to learn more about interactive tables.';\n",
              "          element.innerHTML = '';\n",
              "          dataTable['output_type'] = 'display_data';\n",
              "          await google.colab.output.renderOutput(dataTable, element);\n",
              "          const docLink = document.createElement('div');\n",
              "          docLink.innerHTML = docLinkHtml;\n",
              "          element.appendChild(docLink);\n",
              "        }\n",
              "      </script>\n",
              "    </div>\n",
              "  </div>\n",
              "  "
            ]
          },
          "metadata": {},
          "execution_count": 18
        }
      ]
    },
    {
      "cell_type": "code",
      "source": [
        "CustomerDemographic.info()"
      ],
      "metadata": {
        "colab": {
          "base_uri": "https://localhost:8080/"
        },
        "id": "SE0HeAtCARIH",
        "outputId": "96c43af0-dbad-4164-fa2d-1404554e3e44"
      },
      "execution_count": 19,
      "outputs": [
        {
          "output_type": "stream",
          "name": "stdout",
          "text": [
            "<class 'pandas.core.frame.DataFrame'>\n",
            "RangeIndex: 4000 entries, 0 to 3999\n",
            "Data columns (total 13 columns):\n",
            " #   Column                               Non-Null Count  Dtype         \n",
            "---  ------                               --------------  -----         \n",
            " 0   customer_id                          4000 non-null   int64         \n",
            " 1   first_name                           4000 non-null   object        \n",
            " 2   last_name                            3875 non-null   object        \n",
            " 3   gender                               4000 non-null   object        \n",
            " 4   past_3_years_bike_related_purchases  4000 non-null   int64         \n",
            " 5   DOB                                  3913 non-null   datetime64[ns]\n",
            " 6   job_title                            3494 non-null   object        \n",
            " 7   job_industry_category                3344 non-null   object        \n",
            " 8   wealth_segment                       4000 non-null   object        \n",
            " 9   deceased_indicator                   4000 non-null   object        \n",
            " 10  default                              3698 non-null   object        \n",
            " 11  owns_car                             4000 non-null   object        \n",
            " 12  tenure                               3913 non-null   float64       \n",
            "dtypes: datetime64[ns](1), float64(1), int64(2), object(9)\n",
            "memory usage: 406.4+ KB\n"
          ]
        }
      ]
    },
    {
      "cell_type": "code",
      "source": [
        "#Checking for null values\n",
        "CustomerDemographic.isnull().sum()"
      ],
      "metadata": {
        "colab": {
          "base_uri": "https://localhost:8080/"
        },
        "id": "ENSQmgahAWz8",
        "outputId": "df8aebc7-bd54-4f9b-f279-3938d3bd1dea"
      },
      "execution_count": 20,
      "outputs": [
        {
          "output_type": "execute_result",
          "data": {
            "text/plain": [
              "customer_id                              0\n",
              "first_name                               0\n",
              "last_name                              125\n",
              "gender                                   0\n",
              "past_3_years_bike_related_purchases      0\n",
              "DOB                                     87\n",
              "job_title                              506\n",
              "job_industry_category                  656\n",
              "wealth_segment                           0\n",
              "deceased_indicator                       0\n",
              "default                                302\n",
              "owns_car                                 0\n",
              "tenure                                  87\n",
              "dtype: int64"
            ]
          },
          "metadata": {},
          "execution_count": 20
        }
      ]
    },
    {
      "cell_type": "markdown",
      "source": [
        "There are missing values in 6 columns. They will be dropped or treated according to the nature of our analysis"
      ],
      "metadata": {
        "id": "328tjMjzAhCz"
      }
    },
    {
      "cell_type": "code",
      "source": [
        "#Checking for duplicate data\n",
        "CustomerDemographic.duplicated().sum()"
      ],
      "metadata": {
        "colab": {
          "base_uri": "https://localhost:8080/"
        },
        "id": "R1Kct4CBAqf6",
        "outputId": "6dfd87e4-3faf-4c3f-aac8-34cbaea84d73"
      },
      "execution_count": 21,
      "outputs": [
        {
          "output_type": "execute_result",
          "data": {
            "text/plain": [
              "0"
            ]
          },
          "metadata": {},
          "execution_count": 21
        }
      ]
    },
    {
      "cell_type": "markdown",
      "source": [
        "No duplicates"
      ],
      "metadata": {
        "id": "FUc5hPa4AsZw"
      }
    },
    {
      "cell_type": "code",
      "source": [
        "#Checking for uniqueness of each column\n",
        "CustomerDemographic.nunique()"
      ],
      "metadata": {
        "colab": {
          "base_uri": "https://localhost:8080/"
        },
        "id": "WlSD9A-uAuRM",
        "outputId": "bd169075-1c0c-489d-81fe-5bf677701bda"
      },
      "execution_count": 22,
      "outputs": [
        {
          "output_type": "execute_result",
          "data": {
            "text/plain": [
              "customer_id                            4000\n",
              "first_name                             3139\n",
              "last_name                              3725\n",
              "gender                                    6\n",
              "past_3_years_bike_related_purchases     100\n",
              "DOB                                    3448\n",
              "job_title                               195\n",
              "job_industry_category                     9\n",
              "wealth_segment                            3\n",
              "deceased_indicator                        2\n",
              "default                                  90\n",
              "owns_car                                  2\n",
              "tenure                                   22\n",
              "dtype: int64"
            ]
          },
          "metadata": {},
          "execution_count": 22
        }
      ]
    },
    {
      "cell_type": "markdown",
      "source": [
        "###Exploring the columns"
      ],
      "metadata": {
        "id": "JD6HhaaKAy5z"
      }
    },
    {
      "cell_type": "code",
      "source": [
        "CustomerDemographic['gender'].value_counts()"
      ],
      "metadata": {
        "colab": {
          "base_uri": "https://localhost:8080/"
        },
        "id": "vttrqYGOAybG",
        "outputId": "5bbfaf3f-55e7-4e23-ccd0-a59f515a5225"
      },
      "execution_count": 23,
      "outputs": [
        {
          "output_type": "execute_result",
          "data": {
            "text/plain": [
              "Female    2037\n",
              "Male      1872\n",
              "U           88\n",
              "F            1\n",
              "Femal        1\n",
              "M            1\n",
              "Name: gender, dtype: int64"
            ]
          },
          "metadata": {},
          "execution_count": 23
        }
      ]
    },
    {
      "cell_type": "markdown",
      "source": [
        "Certain categories are not correctly titled.\n",
        "\n"
      ],
      "metadata": {
        "id": "Ypk9A7tOA8l7"
      }
    },
    {
      "cell_type": "code",
      "source": [
        "#Re-naming the categories\n",
        "CustomerDemographic['gender'] = CustomerDemographic['gender'].replace('F','Female').replace('M','Male').replace('Femal','Female').replace('U','Unspecified')"
      ],
      "metadata": {
        "id": "KaKS78loBBol"
      },
      "execution_count": 24,
      "outputs": []
    },
    {
      "cell_type": "code",
      "source": [
        "CustomerDemographic['gender'].value_counts()"
      ],
      "metadata": {
        "colab": {
          "base_uri": "https://localhost:8080/"
        },
        "id": "waNtjZATBMiX",
        "outputId": "e5751463-03ac-4fc5-9866-c074d79e8261"
      },
      "execution_count": 25,
      "outputs": [
        {
          "output_type": "execute_result",
          "data": {
            "text/plain": [
              "Female         2039\n",
              "Male           1873\n",
              "Unspecified      88\n",
              "Name: gender, dtype: int64"
            ]
          },
          "metadata": {},
          "execution_count": 25
        }
      ]
    },
    {
      "cell_type": "code",
      "source": [
        "CustomerDemographic['past_3_years_bike_related_purchases'].value_counts()"
      ],
      "metadata": {
        "colab": {
          "base_uri": "https://localhost:8080/"
        },
        "id": "SA57MeBWBSim",
        "outputId": "2ab2fc04-b19f-440a-fdfa-d094d47fd18e"
      },
      "execution_count": 26,
      "outputs": [
        {
          "output_type": "execute_result",
          "data": {
            "text/plain": [
              "16    56\n",
              "19    56\n",
              "67    54\n",
              "20    54\n",
              "2     50\n",
              "      ..\n",
              "8     28\n",
              "95    27\n",
              "85    27\n",
              "86    27\n",
              "92    24\n",
              "Name: past_3_years_bike_related_purchases, Length: 100, dtype: int64"
            ]
          },
          "metadata": {},
          "execution_count": 26
        }
      ]
    },
    {
      "cell_type": "code",
      "source": [
        "CustomerDemographic['DOB'].value_counts()"
      ],
      "metadata": {
        "colab": {
          "base_uri": "https://localhost:8080/"
        },
        "id": "akjISyVsBWqx",
        "outputId": "aa63336b-8a20-4e7c-b51e-3359764dd075"
      },
      "execution_count": 27,
      "outputs": [
        {
          "output_type": "execute_result",
          "data": {
            "text/plain": [
              "1978-01-30    7\n",
              "1964-07-08    4\n",
              "1962-12-17    4\n",
              "1978-08-19    4\n",
              "1977-05-13    4\n",
              "             ..\n",
              "1989-06-16    1\n",
              "1998-09-30    1\n",
              "1985-03-11    1\n",
              "1989-10-23    1\n",
              "1991-11-05    1\n",
              "Name: DOB, Length: 3448, dtype: int64"
            ]
          },
          "metadata": {},
          "execution_count": 27
        }
      ]
    },
    {
      "cell_type": "code",
      "source": [
        "print(CustomerDemographic['DOB'].min())\n",
        "\n",
        "print(CustomerDemographic['DOB'].max())"
      ],
      "metadata": {
        "colab": {
          "base_uri": "https://localhost:8080/"
        },
        "id": "LDGTQDG9BmVy",
        "outputId": "679a6ec8-55f0-4317-b6a8-76f10f9d441a"
      },
      "execution_count": 33,
      "outputs": [
        {
          "output_type": "stream",
          "name": "stdout",
          "text": [
            "1843-12-21 00:00:00\n",
            "2002-03-11 00:00:00\n"
          ]
        }
      ]
    },
    {
      "cell_type": "markdown",
      "source": [
        "We can notice that the min give us a customer who has 180 years. That looks like a error. "
      ],
      "metadata": {
        "id": "c6Cv4VKzB8EC"
      }
    },
    {
      "cell_type": "code",
      "source": [
        "CustomerDemographic['job_title'].value_counts()"
      ],
      "metadata": {
        "colab": {
          "base_uri": "https://localhost:8080/"
        },
        "id": "3EvM84y5CVtp",
        "outputId": "db64e249-1c98-41fa-bb49-ed6672640fd3"
      },
      "execution_count": 34,
      "outputs": [
        {
          "output_type": "execute_result",
          "data": {
            "text/plain": [
              "Business Systems Development Analyst    45\n",
              "Tax Accountant                          44\n",
              "Social Worker                           44\n",
              "Internal Auditor                        42\n",
              "Recruiting Manager                      41\n",
              "                                        ..\n",
              "Database Administrator I                 4\n",
              "Health Coach I                           3\n",
              "Health Coach III                         3\n",
              "Research Assistant III                   3\n",
              "Developer I                              1\n",
              "Name: job_title, Length: 195, dtype: int64"
            ]
          },
          "metadata": {},
          "execution_count": 34
        }
      ]
    },
    {
      "cell_type": "code",
      "source": [
        "CustomerDemographic['job_industry_category'].value_counts()"
      ],
      "metadata": {
        "colab": {
          "base_uri": "https://localhost:8080/"
        },
        "id": "sFt9BZ7lCehO",
        "outputId": "17da5e96-f23e-435e-fbf4-e772e18b5b0a"
      },
      "execution_count": 35,
      "outputs": [
        {
          "output_type": "execute_result",
          "data": {
            "text/plain": [
              "Manufacturing         799\n",
              "Financial Services    774\n",
              "Health                602\n",
              "Retail                358\n",
              "Property              267\n",
              "IT                    223\n",
              "Entertainment         136\n",
              "Argiculture           113\n",
              "Telecommunications     72\n",
              "Name: job_industry_category, dtype: int64"
            ]
          },
          "metadata": {},
          "execution_count": 35
        }
      ]
    },
    {
      "cell_type": "code",
      "source": [
        "CustomerDemographic['wealth_segment'].value_counts()"
      ],
      "metadata": {
        "colab": {
          "base_uri": "https://localhost:8080/"
        },
        "id": "LtE71K5CCwsK",
        "outputId": "4d0c5f0b-b9c4-4c1f-c76a-024bad636712"
      },
      "execution_count": 36,
      "outputs": [
        {
          "output_type": "execute_result",
          "data": {
            "text/plain": [
              "Mass Customer        2000\n",
              "High Net Worth       1021\n",
              "Affluent Customer     979\n",
              "Name: wealth_segment, dtype: int64"
            ]
          },
          "metadata": {},
          "execution_count": 36
        }
      ]
    },
    {
      "cell_type": "code",
      "source": [
        "CustomerDemographic['deceased_indicator'].value_counts()"
      ],
      "metadata": {
        "colab": {
          "base_uri": "https://localhost:8080/"
        },
        "id": "9KoDk4WOC2I1",
        "outputId": "3b341263-4299-44ad-d39b-579976c4c21d"
      },
      "execution_count": 37,
      "outputs": [
        {
          "output_type": "execute_result",
          "data": {
            "text/plain": [
              "N    3998\n",
              "Y       2\n",
              "Name: deceased_indicator, dtype: int64"
            ]
          },
          "metadata": {},
          "execution_count": 37
        }
      ]
    },
    {
      "cell_type": "code",
      "source": [
        "CustomerDemographic['default'].value_counts()"
      ],
      "metadata": {
        "colab": {
          "base_uri": "https://localhost:8080/"
        },
        "id": "EnYZfduxC4tU",
        "outputId": "a6792418-4aac-448d-91df-e2a64c5c42e5"
      },
      "execution_count": 38,
      "outputs": [
        {
          "output_type": "execute_result",
          "data": {
            "text/plain": [
              "100                                       113\n",
              "1                                         112\n",
              "-1                                        111\n",
              "-100                                       99\n",
              "Ù¡Ù¢Ù£                                     53\n",
              "                                         ... \n",
              "testâ testâ«                               31\n",
              "/dev/null; touch /tmp/blns.fail ; echo     30\n",
              "âªâªtestâª                                 29\n",
              "ì¸ëë°í ë¥´                                 27\n",
              ",ãã»:*:ã»ãâ( â» Ï â» )ãã»:*:ã»ãâ           25\n",
              "Name: default, Length: 90, dtype: int64"
            ]
          },
          "metadata": {},
          "execution_count": 38
        }
      ]
    },
    {
      "cell_type": "markdown",
      "source": [
        "\n",
        "The values are inconsistent, hence dropping the column"
      ],
      "metadata": {
        "id": "syct9-g1DFfJ"
      }
    },
    {
      "cell_type": "code",
      "source": [
        "CustomerDemographic = CustomerDemographic.drop('default', axis=1)"
      ],
      "metadata": {
        "id": "XcTvJquvDG-Q"
      },
      "execution_count": 39,
      "outputs": []
    },
    {
      "cell_type": "code",
      "source": [
        "CustomerDemographic.head(5)"
      ],
      "metadata": {
        "colab": {
          "base_uri": "https://localhost:8080/",
          "height": 340
        },
        "id": "uFB7Sk9ADS3n",
        "outputId": "00690ac1-713b-4dd0-ca70-7c7f1cc5c0a2"
      },
      "execution_count": 40,
      "outputs": [
        {
          "output_type": "execute_result",
          "data": {
            "text/plain": [
              "   customer_id      first_name  last_name  gender  \\\n",
              "0            1         Laraine  Medendorp  Female   \n",
              "1            2             Eli    Bockman    Male   \n",
              "2            3           Arlin     Dearle    Male   \n",
              "3            4          Talbot        NaN    Male   \n",
              "4            5  Sheila-kathryn     Calton  Female   \n",
              "\n",
              "   past_3_years_bike_related_purchases        DOB               job_title  \\\n",
              "0                                   93 1953-10-12     Executive Secretary   \n",
              "1                                   81 1980-12-16  Administrative Officer   \n",
              "2                                   61 1954-01-20      Recruiting Manager   \n",
              "3                                   33 1961-10-03                     NaN   \n",
              "4                                   56 1977-05-13           Senior Editor   \n",
              "\n",
              "  job_industry_category     wealth_segment deceased_indicator owns_car  tenure  \n",
              "0                Health      Mass Customer                  N      Yes    11.0  \n",
              "1    Financial Services      Mass Customer                  N      Yes    16.0  \n",
              "2              Property      Mass Customer                  N      Yes    15.0  \n",
              "3                    IT      Mass Customer                  N       No     7.0  \n",
              "4                   NaN  Affluent Customer                  N      Yes     8.0  "
            ],
            "text/html": [
              "\n",
              "  <div id=\"df-c44529b5-bc27-4b8d-b356-639f268b993a\">\n",
              "    <div class=\"colab-df-container\">\n",
              "      <div>\n",
              "<style scoped>\n",
              "    .dataframe tbody tr th:only-of-type {\n",
              "        vertical-align: middle;\n",
              "    }\n",
              "\n",
              "    .dataframe tbody tr th {\n",
              "        vertical-align: top;\n",
              "    }\n",
              "\n",
              "    .dataframe thead th {\n",
              "        text-align: right;\n",
              "    }\n",
              "</style>\n",
              "<table border=\"1\" class=\"dataframe\">\n",
              "  <thead>\n",
              "    <tr style=\"text-align: right;\">\n",
              "      <th></th>\n",
              "      <th>customer_id</th>\n",
              "      <th>first_name</th>\n",
              "      <th>last_name</th>\n",
              "      <th>gender</th>\n",
              "      <th>past_3_years_bike_related_purchases</th>\n",
              "      <th>DOB</th>\n",
              "      <th>job_title</th>\n",
              "      <th>job_industry_category</th>\n",
              "      <th>wealth_segment</th>\n",
              "      <th>deceased_indicator</th>\n",
              "      <th>owns_car</th>\n",
              "      <th>tenure</th>\n",
              "    </tr>\n",
              "  </thead>\n",
              "  <tbody>\n",
              "    <tr>\n",
              "      <th>0</th>\n",
              "      <td>1</td>\n",
              "      <td>Laraine</td>\n",
              "      <td>Medendorp</td>\n",
              "      <td>Female</td>\n",
              "      <td>93</td>\n",
              "      <td>1953-10-12</td>\n",
              "      <td>Executive Secretary</td>\n",
              "      <td>Health</td>\n",
              "      <td>Mass Customer</td>\n",
              "      <td>N</td>\n",
              "      <td>Yes</td>\n",
              "      <td>11.0</td>\n",
              "    </tr>\n",
              "    <tr>\n",
              "      <th>1</th>\n",
              "      <td>2</td>\n",
              "      <td>Eli</td>\n",
              "      <td>Bockman</td>\n",
              "      <td>Male</td>\n",
              "      <td>81</td>\n",
              "      <td>1980-12-16</td>\n",
              "      <td>Administrative Officer</td>\n",
              "      <td>Financial Services</td>\n",
              "      <td>Mass Customer</td>\n",
              "      <td>N</td>\n",
              "      <td>Yes</td>\n",
              "      <td>16.0</td>\n",
              "    </tr>\n",
              "    <tr>\n",
              "      <th>2</th>\n",
              "      <td>3</td>\n",
              "      <td>Arlin</td>\n",
              "      <td>Dearle</td>\n",
              "      <td>Male</td>\n",
              "      <td>61</td>\n",
              "      <td>1954-01-20</td>\n",
              "      <td>Recruiting Manager</td>\n",
              "      <td>Property</td>\n",
              "      <td>Mass Customer</td>\n",
              "      <td>N</td>\n",
              "      <td>Yes</td>\n",
              "      <td>15.0</td>\n",
              "    </tr>\n",
              "    <tr>\n",
              "      <th>3</th>\n",
              "      <td>4</td>\n",
              "      <td>Talbot</td>\n",
              "      <td>NaN</td>\n",
              "      <td>Male</td>\n",
              "      <td>33</td>\n",
              "      <td>1961-10-03</td>\n",
              "      <td>NaN</td>\n",
              "      <td>IT</td>\n",
              "      <td>Mass Customer</td>\n",
              "      <td>N</td>\n",
              "      <td>No</td>\n",
              "      <td>7.0</td>\n",
              "    </tr>\n",
              "    <tr>\n",
              "      <th>4</th>\n",
              "      <td>5</td>\n",
              "      <td>Sheila-kathryn</td>\n",
              "      <td>Calton</td>\n",
              "      <td>Female</td>\n",
              "      <td>56</td>\n",
              "      <td>1977-05-13</td>\n",
              "      <td>Senior Editor</td>\n",
              "      <td>NaN</td>\n",
              "      <td>Affluent Customer</td>\n",
              "      <td>N</td>\n",
              "      <td>Yes</td>\n",
              "      <td>8.0</td>\n",
              "    </tr>\n",
              "  </tbody>\n",
              "</table>\n",
              "</div>\n",
              "      <button class=\"colab-df-convert\" onclick=\"convertToInteractive('df-c44529b5-bc27-4b8d-b356-639f268b993a')\"\n",
              "              title=\"Convert this dataframe to an interactive table.\"\n",
              "              style=\"display:none;\">\n",
              "        \n",
              "  <svg xmlns=\"http://www.w3.org/2000/svg\" height=\"24px\"viewBox=\"0 0 24 24\"\n",
              "       width=\"24px\">\n",
              "    <path d=\"M0 0h24v24H0V0z\" fill=\"none\"/>\n",
              "    <path d=\"M18.56 5.44l.94 2.06.94-2.06 2.06-.94-2.06-.94-.94-2.06-.94 2.06-2.06.94zm-11 1L8.5 8.5l.94-2.06 2.06-.94-2.06-.94L8.5 2.5l-.94 2.06-2.06.94zm10 10l.94 2.06.94-2.06 2.06-.94-2.06-.94-.94-2.06-.94 2.06-2.06.94z\"/><path d=\"M17.41 7.96l-1.37-1.37c-.4-.4-.92-.59-1.43-.59-.52 0-1.04.2-1.43.59L10.3 9.45l-7.72 7.72c-.78.78-.78 2.05 0 2.83L4 21.41c.39.39.9.59 1.41.59.51 0 1.02-.2 1.41-.59l7.78-7.78 2.81-2.81c.8-.78.8-2.07 0-2.86zM5.41 20L4 18.59l7.72-7.72 1.47 1.35L5.41 20z\"/>\n",
              "  </svg>\n",
              "      </button>\n",
              "      \n",
              "  <style>\n",
              "    .colab-df-container {\n",
              "      display:flex;\n",
              "      flex-wrap:wrap;\n",
              "      gap: 12px;\n",
              "    }\n",
              "\n",
              "    .colab-df-convert {\n",
              "      background-color: #E8F0FE;\n",
              "      border: none;\n",
              "      border-radius: 50%;\n",
              "      cursor: pointer;\n",
              "      display: none;\n",
              "      fill: #1967D2;\n",
              "      height: 32px;\n",
              "      padding: 0 0 0 0;\n",
              "      width: 32px;\n",
              "    }\n",
              "\n",
              "    .colab-df-convert:hover {\n",
              "      background-color: #E2EBFA;\n",
              "      box-shadow: 0px 1px 2px rgba(60, 64, 67, 0.3), 0px 1px 3px 1px rgba(60, 64, 67, 0.15);\n",
              "      fill: #174EA6;\n",
              "    }\n",
              "\n",
              "    [theme=dark] .colab-df-convert {\n",
              "      background-color: #3B4455;\n",
              "      fill: #D2E3FC;\n",
              "    }\n",
              "\n",
              "    [theme=dark] .colab-df-convert:hover {\n",
              "      background-color: #434B5C;\n",
              "      box-shadow: 0px 1px 3px 1px rgba(0, 0, 0, 0.15);\n",
              "      filter: drop-shadow(0px 1px 2px rgba(0, 0, 0, 0.3));\n",
              "      fill: #FFFFFF;\n",
              "    }\n",
              "  </style>\n",
              "\n",
              "      <script>\n",
              "        const buttonEl =\n",
              "          document.querySelector('#df-c44529b5-bc27-4b8d-b356-639f268b993a button.colab-df-convert');\n",
              "        buttonEl.style.display =\n",
              "          google.colab.kernel.accessAllowed ? 'block' : 'none';\n",
              "\n",
              "        async function convertToInteractive(key) {\n",
              "          const element = document.querySelector('#df-c44529b5-bc27-4b8d-b356-639f268b993a');\n",
              "          const dataTable =\n",
              "            await google.colab.kernel.invokeFunction('convertToInteractive',\n",
              "                                                     [key], {});\n",
              "          if (!dataTable) return;\n",
              "\n",
              "          const docLinkHtml = 'Like what you see? Visit the ' +\n",
              "            '<a target=\"_blank\" href=https://colab.research.google.com/notebooks/data_table.ipynb>data table notebook</a>'\n",
              "            + ' to learn more about interactive tables.';\n",
              "          element.innerHTML = '';\n",
              "          dataTable['output_type'] = 'display_data';\n",
              "          await google.colab.output.renderOutput(dataTable, element);\n",
              "          const docLink = document.createElement('div');\n",
              "          docLink.innerHTML = docLinkHtml;\n",
              "          element.appendChild(docLink);\n",
              "        }\n",
              "      </script>\n",
              "    </div>\n",
              "  </div>\n",
              "  "
            ]
          },
          "metadata": {},
          "execution_count": 40
        }
      ]
    },
    {
      "cell_type": "code",
      "source": [
        "CustomerDemographic['owns_car'].value_counts()"
      ],
      "metadata": {
        "colab": {
          "base_uri": "https://localhost:8080/"
        },
        "id": "p2xEecLDDPat",
        "outputId": "16b3387f-1625-4f8c-c40c-9035b9918050"
      },
      "execution_count": 41,
      "outputs": [
        {
          "output_type": "execute_result",
          "data": {
            "text/plain": [
              "Yes    2024\n",
              "No     1976\n",
              "Name: owns_car, dtype: int64"
            ]
          },
          "metadata": {},
          "execution_count": 41
        }
      ]
    },
    {
      "cell_type": "code",
      "source": [
        "CustomerDemographic['tenure'].value_counts()"
      ],
      "metadata": {
        "colab": {
          "base_uri": "https://localhost:8080/"
        },
        "id": "soUeUqelDY0l",
        "outputId": "3b886583-985b-4ac6-9a6f-1836823d9388"
      },
      "execution_count": 42,
      "outputs": [
        {
          "output_type": "execute_result",
          "data": {
            "text/plain": [
              "7.0     235\n",
              "5.0     228\n",
              "11.0    221\n",
              "10.0    218\n",
              "16.0    215\n",
              "8.0     211\n",
              "18.0    208\n",
              "12.0    202\n",
              "9.0     200\n",
              "14.0    200\n",
              "6.0     192\n",
              "13.0    191\n",
              "4.0     191\n",
              "17.0    182\n",
              "15.0    179\n",
              "1.0     166\n",
              "3.0     160\n",
              "19.0    159\n",
              "2.0     150\n",
              "20.0     96\n",
              "22.0     55\n",
              "21.0     54\n",
              "Name: tenure, dtype: int64"
            ]
          },
          "metadata": {},
          "execution_count": 42
        }
      ]
    },
    {
      "cell_type": "markdown",
      "source": [
        "##Exploring Customer Address Data Set\n"
      ],
      "metadata": {
        "id": "ABQgXtK3Djso"
      }
    },
    {
      "cell_type": "code",
      "source": [
        "CustomerAddress.head(5)"
      ],
      "metadata": {
        "colab": {
          "base_uri": "https://localhost:8080/",
          "height": 206
        },
        "id": "OgpgNDWEDqQ6",
        "outputId": "e486473d-e602-4618-e92a-b3f7c6a656ad"
      },
      "execution_count": 43,
      "outputs": [
        {
          "output_type": "execute_result",
          "data": {
            "text/plain": [
              "   customer_id              address  postcode            state    country  \\\n",
              "0            1   060 Morning Avenue      2016  New South Wales  Australia   \n",
              "1            2  6 Meadow Vale Court      2153  New South Wales  Australia   \n",
              "2            4   0 Holy Cross Court      4211              QLD  Australia   \n",
              "3            5  17979 Del Mar Point      2448  New South Wales  Australia   \n",
              "4            6     9 Oakridge Court      3216              VIC  Australia   \n",
              "\n",
              "   property_valuation  \n",
              "0                  10  \n",
              "1                  10  \n",
              "2                   9  \n",
              "3                   4  \n",
              "4                   9  "
            ],
            "text/html": [
              "\n",
              "  <div id=\"df-4017aaf6-8e59-4b03-8042-e4018a34c451\">\n",
              "    <div class=\"colab-df-container\">\n",
              "      <div>\n",
              "<style scoped>\n",
              "    .dataframe tbody tr th:only-of-type {\n",
              "        vertical-align: middle;\n",
              "    }\n",
              "\n",
              "    .dataframe tbody tr th {\n",
              "        vertical-align: top;\n",
              "    }\n",
              "\n",
              "    .dataframe thead th {\n",
              "        text-align: right;\n",
              "    }\n",
              "</style>\n",
              "<table border=\"1\" class=\"dataframe\">\n",
              "  <thead>\n",
              "    <tr style=\"text-align: right;\">\n",
              "      <th></th>\n",
              "      <th>customer_id</th>\n",
              "      <th>address</th>\n",
              "      <th>postcode</th>\n",
              "      <th>state</th>\n",
              "      <th>country</th>\n",
              "      <th>property_valuation</th>\n",
              "    </tr>\n",
              "  </thead>\n",
              "  <tbody>\n",
              "    <tr>\n",
              "      <th>0</th>\n",
              "      <td>1</td>\n",
              "      <td>060 Morning Avenue</td>\n",
              "      <td>2016</td>\n",
              "      <td>New South Wales</td>\n",
              "      <td>Australia</td>\n",
              "      <td>10</td>\n",
              "    </tr>\n",
              "    <tr>\n",
              "      <th>1</th>\n",
              "      <td>2</td>\n",
              "      <td>6 Meadow Vale Court</td>\n",
              "      <td>2153</td>\n",
              "      <td>New South Wales</td>\n",
              "      <td>Australia</td>\n",
              "      <td>10</td>\n",
              "    </tr>\n",
              "    <tr>\n",
              "      <th>2</th>\n",
              "      <td>4</td>\n",
              "      <td>0 Holy Cross Court</td>\n",
              "      <td>4211</td>\n",
              "      <td>QLD</td>\n",
              "      <td>Australia</td>\n",
              "      <td>9</td>\n",
              "    </tr>\n",
              "    <tr>\n",
              "      <th>3</th>\n",
              "      <td>5</td>\n",
              "      <td>17979 Del Mar Point</td>\n",
              "      <td>2448</td>\n",
              "      <td>New South Wales</td>\n",
              "      <td>Australia</td>\n",
              "      <td>4</td>\n",
              "    </tr>\n",
              "    <tr>\n",
              "      <th>4</th>\n",
              "      <td>6</td>\n",
              "      <td>9 Oakridge Court</td>\n",
              "      <td>3216</td>\n",
              "      <td>VIC</td>\n",
              "      <td>Australia</td>\n",
              "      <td>9</td>\n",
              "    </tr>\n",
              "  </tbody>\n",
              "</table>\n",
              "</div>\n",
              "      <button class=\"colab-df-convert\" onclick=\"convertToInteractive('df-4017aaf6-8e59-4b03-8042-e4018a34c451')\"\n",
              "              title=\"Convert this dataframe to an interactive table.\"\n",
              "              style=\"display:none;\">\n",
              "        \n",
              "  <svg xmlns=\"http://www.w3.org/2000/svg\" height=\"24px\"viewBox=\"0 0 24 24\"\n",
              "       width=\"24px\">\n",
              "    <path d=\"M0 0h24v24H0V0z\" fill=\"none\"/>\n",
              "    <path d=\"M18.56 5.44l.94 2.06.94-2.06 2.06-.94-2.06-.94-.94-2.06-.94 2.06-2.06.94zm-11 1L8.5 8.5l.94-2.06 2.06-.94-2.06-.94L8.5 2.5l-.94 2.06-2.06.94zm10 10l.94 2.06.94-2.06 2.06-.94-2.06-.94-.94-2.06-.94 2.06-2.06.94z\"/><path d=\"M17.41 7.96l-1.37-1.37c-.4-.4-.92-.59-1.43-.59-.52 0-1.04.2-1.43.59L10.3 9.45l-7.72 7.72c-.78.78-.78 2.05 0 2.83L4 21.41c.39.39.9.59 1.41.59.51 0 1.02-.2 1.41-.59l7.78-7.78 2.81-2.81c.8-.78.8-2.07 0-2.86zM5.41 20L4 18.59l7.72-7.72 1.47 1.35L5.41 20z\"/>\n",
              "  </svg>\n",
              "      </button>\n",
              "      \n",
              "  <style>\n",
              "    .colab-df-container {\n",
              "      display:flex;\n",
              "      flex-wrap:wrap;\n",
              "      gap: 12px;\n",
              "    }\n",
              "\n",
              "    .colab-df-convert {\n",
              "      background-color: #E8F0FE;\n",
              "      border: none;\n",
              "      border-radius: 50%;\n",
              "      cursor: pointer;\n",
              "      display: none;\n",
              "      fill: #1967D2;\n",
              "      height: 32px;\n",
              "      padding: 0 0 0 0;\n",
              "      width: 32px;\n",
              "    }\n",
              "\n",
              "    .colab-df-convert:hover {\n",
              "      background-color: #E2EBFA;\n",
              "      box-shadow: 0px 1px 2px rgba(60, 64, 67, 0.3), 0px 1px 3px 1px rgba(60, 64, 67, 0.15);\n",
              "      fill: #174EA6;\n",
              "    }\n",
              "\n",
              "    [theme=dark] .colab-df-convert {\n",
              "      background-color: #3B4455;\n",
              "      fill: #D2E3FC;\n",
              "    }\n",
              "\n",
              "    [theme=dark] .colab-df-convert:hover {\n",
              "      background-color: #434B5C;\n",
              "      box-shadow: 0px 1px 3px 1px rgba(0, 0, 0, 0.15);\n",
              "      filter: drop-shadow(0px 1px 2px rgba(0, 0, 0, 0.3));\n",
              "      fill: #FFFFFF;\n",
              "    }\n",
              "  </style>\n",
              "\n",
              "      <script>\n",
              "        const buttonEl =\n",
              "          document.querySelector('#df-4017aaf6-8e59-4b03-8042-e4018a34c451 button.colab-df-convert');\n",
              "        buttonEl.style.display =\n",
              "          google.colab.kernel.accessAllowed ? 'block' : 'none';\n",
              "\n",
              "        async function convertToInteractive(key) {\n",
              "          const element = document.querySelector('#df-4017aaf6-8e59-4b03-8042-e4018a34c451');\n",
              "          const dataTable =\n",
              "            await google.colab.kernel.invokeFunction('convertToInteractive',\n",
              "                                                     [key], {});\n",
              "          if (!dataTable) return;\n",
              "\n",
              "          const docLinkHtml = 'Like what you see? Visit the ' +\n",
              "            '<a target=\"_blank\" href=https://colab.research.google.com/notebooks/data_table.ipynb>data table notebook</a>'\n",
              "            + ' to learn more about interactive tables.';\n",
              "          element.innerHTML = '';\n",
              "          dataTable['output_type'] = 'display_data';\n",
              "          await google.colab.output.renderOutput(dataTable, element);\n",
              "          const docLink = document.createElement('div');\n",
              "          docLink.innerHTML = docLinkHtml;\n",
              "          element.appendChild(docLink);\n",
              "        }\n",
              "      </script>\n",
              "    </div>\n",
              "  </div>\n",
              "  "
            ]
          },
          "metadata": {},
          "execution_count": 43
        }
      ]
    },
    {
      "cell_type": "code",
      "source": [
        "CustomerAddress.info()"
      ],
      "metadata": {
        "colab": {
          "base_uri": "https://localhost:8080/"
        },
        "id": "KIH0DoCoDttn",
        "outputId": "c3717989-9982-4973-cd73-0d871b9504fc"
      },
      "execution_count": 44,
      "outputs": [
        {
          "output_type": "stream",
          "name": "stdout",
          "text": [
            "<class 'pandas.core.frame.DataFrame'>\n",
            "RangeIndex: 3999 entries, 0 to 3998\n",
            "Data columns (total 6 columns):\n",
            " #   Column              Non-Null Count  Dtype \n",
            "---  ------              --------------  ----- \n",
            " 0   customer_id         3999 non-null   int64 \n",
            " 1   address             3999 non-null   object\n",
            " 2   postcode            3999 non-null   int64 \n",
            " 3   state               3999 non-null   object\n",
            " 4   country             3999 non-null   object\n",
            " 5   property_valuation  3999 non-null   int64 \n",
            "dtypes: int64(3), object(3)\n",
            "memory usage: 187.6+ KB\n"
          ]
        }
      ]
    },
    {
      "cell_type": "code",
      "source": [
        "#Checking for null values.\n",
        "CustomerAddress.isnull().sum()"
      ],
      "metadata": {
        "colab": {
          "base_uri": "https://localhost:8080/"
        },
        "id": "n1T-1ojIEXlo",
        "outputId": "59f4be73-eb1d-43de-efbe-3c4f7a2716b2"
      },
      "execution_count": 45,
      "outputs": [
        {
          "output_type": "execute_result",
          "data": {
            "text/plain": [
              "customer_id           0\n",
              "address               0\n",
              "postcode              0\n",
              "state                 0\n",
              "country               0\n",
              "property_valuation    0\n",
              "dtype: int64"
            ]
          },
          "metadata": {},
          "execution_count": 45
        }
      ]
    },
    {
      "cell_type": "markdown",
      "source": [
        "No null values"
      ],
      "metadata": {
        "id": "aC3UUIjdEcza"
      }
    },
    {
      "cell_type": "code",
      "source": [
        "#Checking for duplicate values\n",
        "CustomerAddress.duplicated().sum()"
      ],
      "metadata": {
        "colab": {
          "base_uri": "https://localhost:8080/"
        },
        "id": "DX0Ro3CYEdwA",
        "outputId": "8aba1bde-e4ed-48ef-9022-87c4eb125a15"
      },
      "execution_count": 46,
      "outputs": [
        {
          "output_type": "execute_result",
          "data": {
            "text/plain": [
              "0"
            ]
          },
          "metadata": {},
          "execution_count": 46
        }
      ]
    },
    {
      "cell_type": "markdown",
      "source": [
        "No duplicates"
      ],
      "metadata": {
        "id": "eweOFPfMEiUx"
      }
    },
    {
      "cell_type": "code",
      "source": [
        "#Checking for uniqueness of each column\n",
        "CustomerAddress.nunique()"
      ],
      "metadata": {
        "colab": {
          "base_uri": "https://localhost:8080/"
        },
        "id": "RdUV12KSEoJc",
        "outputId": "06430c9e-363f-4f52-f3f3-8119749b1ebb"
      },
      "execution_count": 47,
      "outputs": [
        {
          "output_type": "execute_result",
          "data": {
            "text/plain": [
              "customer_id           3999\n",
              "address               3996\n",
              "postcode               873\n",
              "state                    5\n",
              "country                  1\n",
              "property_valuation      12\n",
              "dtype: int64"
            ]
          },
          "metadata": {},
          "execution_count": 47
        }
      ]
    },
    {
      "cell_type": "markdown",
      "source": [
        "\n",
        "###Exploring the columns\n"
      ],
      "metadata": {
        "id": "jX0ovDXXE36x"
      }
    },
    {
      "cell_type": "code",
      "source": [
        "CustomerAddress['postcode'].value_counts()"
      ],
      "metadata": {
        "colab": {
          "base_uri": "https://localhost:8080/"
        },
        "id": "nhJjWDqtE65T",
        "outputId": "04f69002-e283-492a-b1ea-b870df791071"
      },
      "execution_count": 48,
      "outputs": [
        {
          "output_type": "execute_result",
          "data": {
            "text/plain": [
              "2170    31\n",
              "2155    30\n",
              "2145    30\n",
              "2153    29\n",
              "3977    26\n",
              "        ..\n",
              "3808     1\n",
              "3114     1\n",
              "4721     1\n",
              "4799     1\n",
              "3089     1\n",
              "Name: postcode, Length: 873, dtype: int64"
            ]
          },
          "metadata": {},
          "execution_count": 48
        }
      ]
    },
    {
      "cell_type": "code",
      "source": [
        "CustomerAddress['state'].value_counts()"
      ],
      "metadata": {
        "colab": {
          "base_uri": "https://localhost:8080/"
        },
        "id": "l-jpMYjoE_vp",
        "outputId": "c096c3f0-5281-4941-a628-4784f0bd7540"
      },
      "execution_count": 49,
      "outputs": [
        {
          "output_type": "execute_result",
          "data": {
            "text/plain": [
              "NSW                2054\n",
              "VIC                 939\n",
              "QLD                 838\n",
              "New South Wales      86\n",
              "Victoria             82\n",
              "Name: state, dtype: int64"
            ]
          },
          "metadata": {},
          "execution_count": 49
        }
      ]
    },
    {
      "cell_type": "markdown",
      "source": [
        "Certain categories are not correctly titled."
      ],
      "metadata": {
        "id": "n9-lOZkcFJA8"
      }
    },
    {
      "cell_type": "code",
      "source": [
        "#Re-naming the categories\n",
        "CustomerAddress['state'] = CustomerAddress['state'].replace('New South Wales','NSW').replace('Victoria','VIC')"
      ],
      "metadata": {
        "id": "LUAUE5WvFT82"
      },
      "execution_count": 50,
      "outputs": []
    },
    {
      "cell_type": "code",
      "source": [
        "CustomerAddress['state'].value_counts()"
      ],
      "metadata": {
        "colab": {
          "base_uri": "https://localhost:8080/"
        },
        "id": "CHKNUfQvFySZ",
        "outputId": "fdc00dce-5eaf-41b7-8401-ff4c6b8131a7"
      },
      "execution_count": 51,
      "outputs": [
        {
          "output_type": "execute_result",
          "data": {
            "text/plain": [
              "NSW    2140\n",
              "VIC    1021\n",
              "QLD     838\n",
              "Name: state, dtype: int64"
            ]
          },
          "metadata": {},
          "execution_count": 51
        }
      ]
    },
    {
      "cell_type": "code",
      "source": [
        "CustomerAddress['country'].value_counts()"
      ],
      "metadata": {
        "colab": {
          "base_uri": "https://localhost:8080/"
        },
        "id": "eOXy-1abF3qQ",
        "outputId": "3fb58960-f8ff-43dd-ef00-a207b77bab74"
      },
      "execution_count": 52,
      "outputs": [
        {
          "output_type": "execute_result",
          "data": {
            "text/plain": [
              "Australia    3999\n",
              "Name: country, dtype: int64"
            ]
          },
          "metadata": {},
          "execution_count": 52
        }
      ]
    },
    {
      "cell_type": "code",
      "source": [
        "CustomerAddress['property_valuation'].value_counts()"
      ],
      "metadata": {
        "colab": {
          "base_uri": "https://localhost:8080/"
        },
        "id": "7_otqiqKF5Sy",
        "outputId": "49cfb1fb-84b8-4f4b-dc86-4614453e4b40"
      },
      "execution_count": 53,
      "outputs": [
        {
          "output_type": "execute_result",
          "data": {
            "text/plain": [
              "9     647\n",
              "8     646\n",
              "10    577\n",
              "7     493\n",
              "11    281\n",
              "6     238\n",
              "5     225\n",
              "4     214\n",
              "12    195\n",
              "3     186\n",
              "1     154\n",
              "2     143\n",
              "Name: property_valuation, dtype: int64"
            ]
          },
          "metadata": {},
          "execution_count": 53
        }
      ]
    },
    {
      "cell_type": "markdown",
      "source": [
        "## TASK: 1 - Data Insights\n",
        "# Targeting high value customers based on customer demographics and attributes."
      ],
      "metadata": {
        "id": "twOhBquoGVoO"
      }
    },
    {
      "cell_type": "code",
      "source": [],
      "metadata": {
        "id": "e8sVwvHCGfMI"
      },
      "execution_count": null,
      "outputs": []
    }
  ]
}